{
 "cells": [
  {
   "cell_type": "code",
   "execution_count": 27,
   "id": "1284e2a7",
   "metadata": {},
   "outputs": [],
   "source": [
    "# loading installed r package\n",
    "library(dplyr)\n",
    "library(tidyverse)\n",
    "library(readr)\n",
    "#library(skimr)\n",
    "#library(tableone)\n",
    "library(car)"
   ]
  },
  {
   "cell_type": "code",
   "execution_count": 3,
   "id": "e6fff1b8",
   "metadata": {},
   "outputs": [
    {
     "data": {
      "text/html": [
       "<table class=\"dataframe\">\n",
       "<caption>A data.frame: 6 × 15</caption>\n",
       "<thead>\n",
       "\t<tr><th></th><th scope=col>id</th><th scope=col>date</th><th scope=col>age</th><th scope=col>sex</th><th scope=col>bmi</th><th scope=col>height</th><th scope=col>weight</th><th scope=col>wc</th><th scope=col>fbs</th><th scope=col>hba1c</th><th scope=col>smk_status</th><th scope=col>alc_status</th><th scope=col>alc_amount_grams</th><th scope=col>egfr</th><th scope=col>visit</th></tr>\n",
       "\t<tr><th></th><th scope=col>&lt;int&gt;</th><th scope=col>&lt;chr&gt;</th><th scope=col>&lt;int&gt;</th><th scope=col>&lt;int&gt;</th><th scope=col>&lt;dbl&gt;</th><th scope=col>&lt;dbl&gt;</th><th scope=col>&lt;dbl&gt;</th><th scope=col>&lt;dbl&gt;</th><th scope=col>&lt;int&gt;</th><th scope=col>&lt;dbl&gt;</th><th scope=col>&lt;int&gt;</th><th scope=col>&lt;int&gt;</th><th scope=col>&lt;dbl&gt;</th><th scope=col>&lt;dbl&gt;</th><th scope=col>&lt;int&gt;</th></tr>\n",
       "</thead>\n",
       "<tbody>\n",
       "\t<tr><th scope=row>1</th><td>1</td><td>2004-03-30</td><td>30</td><td>2</td><td>19.83515</td><td>163.0</td><td>52.7</td><td>NA</td><td> 90</td><td>4.7</td><td> 1</td><td> 1</td><td>888.00000</td><td>100.77025</td><td>1</td></tr>\n",
       "\t<tr><th scope=row>2</th><td>1</td><td>2005-05-19</td><td>31</td><td>2</td><td>20.07734</td><td>164.0</td><td>54.0</td><td>73</td><td> 83</td><td>5.1</td><td> 1</td><td> 1</td><td>888.00000</td><td> 84.33963</td><td>2</td></tr>\n",
       "\t<tr><th scope=row>3</th><td>1</td><td>2008-02-05</td><td>34</td><td>2</td><td>19.77324</td><td>163.1</td><td>52.6</td><td>NA</td><td> 77</td><td>5.1</td><td>NA</td><td>NA</td><td>       NA</td><td> 82.58086</td><td>3</td></tr>\n",
       "\t<tr><th scope=row>4</th><td>1</td><td>2009-03-19</td><td>35</td><td>2</td><td>20.51189</td><td>163.6</td><td>54.9</td><td>NA</td><td> 84</td><td>5.3</td><td> 1</td><td> 3</td><td> 90.51425</td><td> 87.80133</td><td>4</td></tr>\n",
       "\t<tr><th scope=row>5</th><td>1</td><td>2010-04-08</td><td>36</td><td>2</td><td>19.56213</td><td>164.6</td><td>53.0</td><td>NA</td><td> 91</td><td>5.7</td><td>NA</td><td>NA</td><td>       NA</td><td> 99.65330</td><td>5</td></tr>\n",
       "\t<tr><th scope=row>6</th><td>1</td><td>2011-03-30</td><td>37</td><td>2</td><td>20.06698</td><td>164.8</td><td>54.5</td><td>NA</td><td>100</td><td>5.4</td><td>NA</td><td>NA</td><td>       NA</td><td> 97.42397</td><td>6</td></tr>\n",
       "</tbody>\n",
       "</table>\n"
      ],
      "text/latex": [
       "A data.frame: 6 × 15\n",
       "\\begin{tabular}{r|lllllllllllllll}\n",
       "  & id & date & age & sex & bmi & height & weight & wc & fbs & hba1c & smk\\_status & alc\\_status & alc\\_amount\\_grams & egfr & visit\\\\\n",
       "  & <int> & <chr> & <int> & <int> & <dbl> & <dbl> & <dbl> & <dbl> & <int> & <dbl> & <int> & <int> & <dbl> & <dbl> & <int>\\\\\n",
       "\\hline\n",
       "\t1 & 1 & 2004-03-30 & 30 & 2 & 19.83515 & 163.0 & 52.7 & NA &  90 & 4.7 &  1 &  1 & 888.00000 & 100.77025 & 1\\\\\n",
       "\t2 & 1 & 2005-05-19 & 31 & 2 & 20.07734 & 164.0 & 54.0 & 73 &  83 & 5.1 &  1 &  1 & 888.00000 &  84.33963 & 2\\\\\n",
       "\t3 & 1 & 2008-02-05 & 34 & 2 & 19.77324 & 163.1 & 52.6 & NA &  77 & 5.1 & NA & NA &        NA &  82.58086 & 3\\\\\n",
       "\t4 & 1 & 2009-03-19 & 35 & 2 & 20.51189 & 163.6 & 54.9 & NA &  84 & 5.3 &  1 &  3 &  90.51425 &  87.80133 & 4\\\\\n",
       "\t5 & 1 & 2010-04-08 & 36 & 2 & 19.56213 & 164.6 & 53.0 & NA &  91 & 5.7 & NA & NA &        NA &  99.65330 & 5\\\\\n",
       "\t6 & 1 & 2011-03-30 & 37 & 2 & 20.06698 & 164.8 & 54.5 & NA & 100 & 5.4 & NA & NA &        NA &  97.42397 & 6\\\\\n",
       "\\end{tabular}\n"
      ],
      "text/markdown": [
       "\n",
       "A data.frame: 6 × 15\n",
       "\n",
       "| <!--/--> | id &lt;int&gt; | date &lt;chr&gt; | age &lt;int&gt; | sex &lt;int&gt; | bmi &lt;dbl&gt; | height &lt;dbl&gt; | weight &lt;dbl&gt; | wc &lt;dbl&gt; | fbs &lt;int&gt; | hba1c &lt;dbl&gt; | smk_status &lt;int&gt; | alc_status &lt;int&gt; | alc_amount_grams &lt;dbl&gt; | egfr &lt;dbl&gt; | visit &lt;int&gt; |\n",
       "|---|---|---|---|---|---|---|---|---|---|---|---|---|---|---|---|\n",
       "| 1 | 1 | 2004-03-30 | 30 | 2 | 19.83515 | 163.0 | 52.7 | NA |  90 | 4.7 |  1 |  1 | 888.00000 | 100.77025 | 1 |\n",
       "| 2 | 1 | 2005-05-19 | 31 | 2 | 20.07734 | 164.0 | 54.0 | 73 |  83 | 5.1 |  1 |  1 | 888.00000 |  84.33963 | 2 |\n",
       "| 3 | 1 | 2008-02-05 | 34 | 2 | 19.77324 | 163.1 | 52.6 | NA |  77 | 5.1 | NA | NA |        NA |  82.58086 | 3 |\n",
       "| 4 | 1 | 2009-03-19 | 35 | 2 | 20.51189 | 163.6 | 54.9 | NA |  84 | 5.3 |  1 |  3 |  90.51425 |  87.80133 | 4 |\n",
       "| 5 | 1 | 2010-04-08 | 36 | 2 | 19.56213 | 164.6 | 53.0 | NA |  91 | 5.7 | NA | NA |        NA |  99.65330 | 5 |\n",
       "| 6 | 1 | 2011-03-30 | 37 | 2 | 20.06698 | 164.8 | 54.5 | NA | 100 | 5.4 | NA | NA |        NA |  97.42397 | 6 |\n",
       "\n"
      ],
      "text/plain": [
       "  id date       age sex bmi      height weight wc fbs hba1c smk_status\n",
       "1 1  2004-03-30 30  2   19.83515 163.0  52.7   NA  90 4.7    1        \n",
       "2 1  2005-05-19 31  2   20.07734 164.0  54.0   73  83 5.1    1        \n",
       "3 1  2008-02-05 34  2   19.77324 163.1  52.6   NA  77 5.1   NA        \n",
       "4 1  2009-03-19 35  2   20.51189 163.6  54.9   NA  84 5.3    1        \n",
       "5 1  2010-04-08 36  2   19.56213 164.6  53.0   NA  91 5.7   NA        \n",
       "6 1  2011-03-30 37  2   20.06698 164.8  54.5   NA 100 5.4   NA        \n",
       "  alc_status alc_amount_grams egfr      visit\n",
       "1  1         888.00000        100.77025 1    \n",
       "2  1         888.00000         84.33963 2    \n",
       "3 NA                NA         82.58086 3    \n",
       "4  3          90.51425         87.80133 4    \n",
       "5 NA                NA         99.65330 5    \n",
       "6 NA                NA         97.42397 6    "
      ]
     },
     "metadata": {},
     "output_type": "display_data"
    }
   ],
   "source": [
    "# 2: read data\n",
    "lc = \"../SMC/smc_bmi_dm.csv\"\n",
    "data = read.csv(lc, header = TRUE)\n",
    "head(data)"
   ]
  },
  {
   "cell_type": "code",
   "execution_count": 16,
   "id": "98e06b12",
   "metadata": {},
   "outputs": [
    {
     "data": {
      "text/html": [
       "<table class=\"dataframe\">\n",
       "<caption>A data.frame: 6 × 15</caption>\n",
       "<thead>\n",
       "\t<tr><th></th><th scope=col>id</th><th scope=col>date</th><th scope=col>age</th><th scope=col>sex</th><th scope=col>bmi</th><th scope=col>height</th><th scope=col>weight</th><th scope=col>wc</th><th scope=col>fbs</th><th scope=col>hba1c</th><th scope=col>smk_status</th><th scope=col>alc_status</th><th scope=col>alc_amount_grams</th><th scope=col>egfr</th><th scope=col>visit</th></tr>\n",
       "\t<tr><th></th><th scope=col>&lt;chr&gt;</th><th scope=col>&lt;chr&gt;</th><th scope=col>&lt;int&gt;</th><th scope=col>&lt;int&gt;</th><th scope=col>&lt;dbl&gt;</th><th scope=col>&lt;dbl&gt;</th><th scope=col>&lt;dbl&gt;</th><th scope=col>&lt;dbl&gt;</th><th scope=col>&lt;int&gt;</th><th scope=col>&lt;dbl&gt;</th><th scope=col>&lt;int&gt;</th><th scope=col>&lt;int&gt;</th><th scope=col>&lt;dbl&gt;</th><th scope=col>&lt;dbl&gt;</th><th scope=col>&lt;int&gt;</th></tr>\n",
       "</thead>\n",
       "<tbody>\n",
       "\t<tr><th scope=row>1</th><td>1</td><td>2004-03-30</td><td>30</td><td>2</td><td>19.83515</td><td>163.0</td><td>52.7</td><td>NA</td><td> 90</td><td>4.7</td><td> 1</td><td> 1</td><td>888.00000</td><td>100.77025</td><td>1</td></tr>\n",
       "\t<tr><th scope=row>2</th><td>1</td><td>2005-05-19</td><td>31</td><td>2</td><td>20.07734</td><td>164.0</td><td>54.0</td><td>73</td><td> 83</td><td>5.1</td><td> 1</td><td> 1</td><td>888.00000</td><td> 84.33963</td><td>2</td></tr>\n",
       "\t<tr><th scope=row>3</th><td>1</td><td>2008-02-05</td><td>34</td><td>2</td><td>19.77324</td><td>163.1</td><td>52.6</td><td>NA</td><td> 77</td><td>5.1</td><td>NA</td><td>NA</td><td>       NA</td><td> 82.58086</td><td>3</td></tr>\n",
       "\t<tr><th scope=row>4</th><td>1</td><td>2009-03-19</td><td>35</td><td>2</td><td>20.51189</td><td>163.6</td><td>54.9</td><td>NA</td><td> 84</td><td>5.3</td><td> 1</td><td> 3</td><td> 90.51425</td><td> 87.80133</td><td>4</td></tr>\n",
       "\t<tr><th scope=row>5</th><td>1</td><td>2010-04-08</td><td>36</td><td>2</td><td>19.56213</td><td>164.6</td><td>53.0</td><td>NA</td><td> 91</td><td>5.7</td><td>NA</td><td>NA</td><td>       NA</td><td> 99.65330</td><td>5</td></tr>\n",
       "\t<tr><th scope=row>6</th><td>1</td><td>2011-03-30</td><td>37</td><td>2</td><td>20.06698</td><td>164.8</td><td>54.5</td><td>NA</td><td>100</td><td>5.4</td><td>NA</td><td>NA</td><td>       NA</td><td> 97.42397</td><td>6</td></tr>\n",
       "</tbody>\n",
       "</table>\n"
      ],
      "text/latex": [
       "A data.frame: 6 × 15\n",
       "\\begin{tabular}{r|lllllllllllllll}\n",
       "  & id & date & age & sex & bmi & height & weight & wc & fbs & hba1c & smk\\_status & alc\\_status & alc\\_amount\\_grams & egfr & visit\\\\\n",
       "  & <chr> & <chr> & <int> & <int> & <dbl> & <dbl> & <dbl> & <dbl> & <int> & <dbl> & <int> & <int> & <dbl> & <dbl> & <int>\\\\\n",
       "\\hline\n",
       "\t1 & 1 & 2004-03-30 & 30 & 2 & 19.83515 & 163.0 & 52.7 & NA &  90 & 4.7 &  1 &  1 & 888.00000 & 100.77025 & 1\\\\\n",
       "\t2 & 1 & 2005-05-19 & 31 & 2 & 20.07734 & 164.0 & 54.0 & 73 &  83 & 5.1 &  1 &  1 & 888.00000 &  84.33963 & 2\\\\\n",
       "\t3 & 1 & 2008-02-05 & 34 & 2 & 19.77324 & 163.1 & 52.6 & NA &  77 & 5.1 & NA & NA &        NA &  82.58086 & 3\\\\\n",
       "\t4 & 1 & 2009-03-19 & 35 & 2 & 20.51189 & 163.6 & 54.9 & NA &  84 & 5.3 &  1 &  3 &  90.51425 &  87.80133 & 4\\\\\n",
       "\t5 & 1 & 2010-04-08 & 36 & 2 & 19.56213 & 164.6 & 53.0 & NA &  91 & 5.7 & NA & NA &        NA &  99.65330 & 5\\\\\n",
       "\t6 & 1 & 2011-03-30 & 37 & 2 & 20.06698 & 164.8 & 54.5 & NA & 100 & 5.4 & NA & NA &        NA &  97.42397 & 6\\\\\n",
       "\\end{tabular}\n"
      ],
      "text/markdown": [
       "\n",
       "A data.frame: 6 × 15\n",
       "\n",
       "| <!--/--> | id &lt;chr&gt; | date &lt;chr&gt; | age &lt;int&gt; | sex &lt;int&gt; | bmi &lt;dbl&gt; | height &lt;dbl&gt; | weight &lt;dbl&gt; | wc &lt;dbl&gt; | fbs &lt;int&gt; | hba1c &lt;dbl&gt; | smk_status &lt;int&gt; | alc_status &lt;int&gt; | alc_amount_grams &lt;dbl&gt; | egfr &lt;dbl&gt; | visit &lt;int&gt; |\n",
       "|---|---|---|---|---|---|---|---|---|---|---|---|---|---|---|---|\n",
       "| 1 | 1 | 2004-03-30 | 30 | 2 | 19.83515 | 163.0 | 52.7 | NA |  90 | 4.7 |  1 |  1 | 888.00000 | 100.77025 | 1 |\n",
       "| 2 | 1 | 2005-05-19 | 31 | 2 | 20.07734 | 164.0 | 54.0 | 73 |  83 | 5.1 |  1 |  1 | 888.00000 |  84.33963 | 2 |\n",
       "| 3 | 1 | 2008-02-05 | 34 | 2 | 19.77324 | 163.1 | 52.6 | NA |  77 | 5.1 | NA | NA |        NA |  82.58086 | 3 |\n",
       "| 4 | 1 | 2009-03-19 | 35 | 2 | 20.51189 | 163.6 | 54.9 | NA |  84 | 5.3 |  1 |  3 |  90.51425 |  87.80133 | 4 |\n",
       "| 5 | 1 | 2010-04-08 | 36 | 2 | 19.56213 | 164.6 | 53.0 | NA |  91 | 5.7 | NA | NA |        NA |  99.65330 | 5 |\n",
       "| 6 | 1 | 2011-03-30 | 37 | 2 | 20.06698 | 164.8 | 54.5 | NA | 100 | 5.4 | NA | NA |        NA |  97.42397 | 6 |\n",
       "\n"
      ],
      "text/plain": [
       "  id date       age sex bmi      height weight wc fbs hba1c smk_status\n",
       "1 1  2004-03-30 30  2   19.83515 163.0  52.7   NA  90 4.7    1        \n",
       "2 1  2005-05-19 31  2   20.07734 164.0  54.0   73  83 5.1    1        \n",
       "3 1  2008-02-05 34  2   19.77324 163.1  52.6   NA  77 5.1   NA        \n",
       "4 1  2009-03-19 35  2   20.51189 163.6  54.9   NA  84 5.3    1        \n",
       "5 1  2010-04-08 36  2   19.56213 164.6  53.0   NA  91 5.7   NA        \n",
       "6 1  2011-03-30 37  2   20.06698 164.8  54.5   NA 100 5.4   NA        \n",
       "  alc_status alc_amount_grams egfr      visit\n",
       "1  1         888.00000        100.77025 1    \n",
       "2  1         888.00000         84.33963 2    \n",
       "3 NA                NA         82.58086 3    \n",
       "4  3          90.51425         87.80133 4    \n",
       "5 NA                NA         99.65330 5    \n",
       "6 NA                NA         97.42397 6    "
      ]
     },
     "metadata": {},
     "output_type": "display_data"
    },
    {
     "data": {
      "text/plain": [
       "      id                date                age              sex       \n",
       " Length:159609      Length:159609      Min.   : 20.00   Min.   :1.000  \n",
       " Class :character   Class :character   1st Qu.: 42.00   1st Qu.:1.000  \n",
       " Mode  :character   Mode  :character   Median : 49.00   Median :1.000  \n",
       "                                       Mean   : 48.61   Mean   :1.465  \n",
       "                                       3rd Qu.: 56.00   3rd Qu.:2.000  \n",
       "                                       Max.   :129.00   Max.   :2.000  \n",
       "                                                                       \n",
       "      bmi            height          weight             wc        \n",
       " Min.   :10.66   Min.   :124.9   Min.   : 24.30   Min.   : 40.00  \n",
       " 1st Qu.:21.49   1st Qu.:158.8   1st Qu.: 55.70   1st Qu.: 75.00  \n",
       " Median :23.52   Median :165.0   Median : 63.90   Median : 82.00  \n",
       " Mean   :23.65   Mean   :165.1   Mean   : 64.79   Mean   : 82.21  \n",
       " 3rd Qu.:25.57   3rd Qu.:171.3   3rd Qu.: 72.60   3rd Qu.: 89.00  \n",
       " Max.   :53.69   Max.   :207.0   Max.   :176.70   Max.   :140.00  \n",
       "                                                  NA's   :25447   \n",
       "      fbs            hba1c          smk_status      alc_status   \n",
       " Min.   : 42.0   Min.   : 3.100   Min.   :1.000   Min.   :1.000  \n",
       " 1st Qu.: 85.0   1st Qu.: 5.100   1st Qu.:1.000   1st Qu.:1.000  \n",
       " Median : 91.0   Median : 5.400   Median :1.000   Median :3.000  \n",
       " Mean   : 94.4   Mean   : 5.523   Mean   :1.626   Mean   :2.326  \n",
       " 3rd Qu.: 98.0   3rd Qu.: 5.700   3rd Qu.:3.000   3rd Qu.:3.000  \n",
       " Max.   :484.0   Max.   :16.700   Max.   :3.000   Max.   :3.000  \n",
       "                 NA's   :4301     NA's   :26527   NA's   :9583   \n",
       " alc_amount_grams      egfr             visit  \n",
       " Min.   :  0.48   Min.   :  3.176   Min.   :1  \n",
       " 1st Qu.: 14.40   1st Qu.: 82.693   1st Qu.:1  \n",
       " Median : 45.26   Median : 92.937   Median :1  \n",
       " Mean   :332.96   Mean   : 92.330   Mean   :1  \n",
       " 3rd Qu.:888.00   3rd Qu.:102.396   3rd Qu.:1  \n",
       " Max.   :888.00   Max.   :160.698   Max.   :1  \n",
       " NA's   :14684    NA's   :732                  "
      ]
     },
     "metadata": {},
     "output_type": "display_data"
    }
   ],
   "source": [
    "# modify the data set \n",
    "data$id <- as.character(data$id)\n",
    "head(data)\n",
    "\n",
    "bmi_dm <- data %>% filter(visit==1 & !is.na(bmi)& !is.na(fbs))\n",
    "summary (bmi_dm)"
   ]
  },
  {
   "cell_type": "code",
   "execution_count": 17,
   "id": "93111210",
   "metadata": {},
   "outputs": [
    {
     "data": {
      "text/plain": [
       "\n",
       "     0      1 \n",
       "152514   7095 "
      ]
     },
     "metadata": {},
     "output_type": "display_data"
    },
    {
     "data": {
      "text/plain": [
       "\n",
       "    1     2     3     4 \n",
       " 6045 62747 41093 49724 "
      ]
     },
     "metadata": {},
     "output_type": "display_data"
    }
   ],
   "source": [
    "# 3: generate new variables\n",
    "\n",
    "bmi_dm$dm <- ifelse(bmi_dm$fbs >=126, 1,0)\n",
    "table(bmi_dm$dm, useNA = \"ifany\")\n",
    "\n",
    "\n",
    "bmi_dm$bmi_cat <- ifelse(bmi_dm$bmi <18.5, 1, \n",
    "                         ifelse(bmi_dm$bmi >=18.5 & bmi_dm$bmi <23, 2,\n",
    "                                ifelse(bmi_dm$bmi>=23 & bmi_dm$bmi <25 , 3, 4)))\n",
    "table(bmi_dm$bmi_cat, useNA = \"ifany\")"
   ]
  },
  {
   "cell_type": "code",
   "execution_count": 18,
   "id": "51c72120",
   "metadata": {},
   "outputs": [
    {
     "data": {
      "text/plain": [
       "\n",
       "Call:\n",
       "glm(formula = dm ~ bmi, family = \"binomial\", data = bmi_dm)\n",
       "\n",
       "Deviance Residuals: \n",
       "    Min       1Q   Median       3Q      Max  \n",
       "-1.8127  -0.3251  -0.2779  -0.2355   3.0234  \n",
       "\n",
       "Coefficients:\n",
       "            Estimate Std. Error z value Pr(>|z|)    \n",
       "(Intercept) -6.80463    0.08847  -76.91   <2e-16 ***\n",
       "bmi          0.15335    0.00349   43.94   <2e-16 ***\n",
       "---\n",
       "Signif. codes:  0 ‘***’ 0.001 ‘**’ 0.01 ‘*’ 0.05 ‘.’ 0.1 ‘ ’ 1\n",
       "\n",
       "(Dispersion parameter for binomial family taken to be 1)\n",
       "\n",
       "    Null deviance: 58048  on 159608  degrees of freedom\n",
       "Residual deviance: 56221  on 159607  degrees of freedom\n",
       "AIC: 56225\n",
       "\n",
       "Number of Fisher Scoring iterations: 6\n"
      ]
     },
     "metadata": {},
     "output_type": "display_data"
    },
    {
     "data": {
      "text/html": [
       "<style>\n",
       ".dl-inline {width: auto; margin:0; padding: 0}\n",
       ".dl-inline>dt, .dl-inline>dd {float: none; width: auto; display: inline-block}\n",
       ".dl-inline>dt::after {content: \":\\0020\"; padding-right: .5ex}\n",
       ".dl-inline>dt:not(:first-of-type) {padding-left: .5ex}\n",
       "</style><dl class=dl-inline><dt>(Intercept)</dt><dd>0.00110863320586005</dd><dt>bmi</dt><dd>1.16572722298035</dd></dl>\n"
      ],
      "text/latex": [
       "\\begin{description*}\n",
       "\\item[(Intercept)] 0.00110863320586005\n",
       "\\item[bmi] 1.16572722298035\n",
       "\\end{description*}\n"
      ],
      "text/markdown": [
       "(Intercept)\n",
       ":   0.00110863320586005bmi\n",
       ":   1.16572722298035\n",
       "\n"
      ],
      "text/plain": [
       "(Intercept)         bmi \n",
       "0.001108633 1.165727223 "
      ]
     },
     "metadata": {},
     "output_type": "display_data"
    },
    {
     "name": "stderr",
     "output_type": "stream",
     "text": [
      "Waiting for profiling to be done...\n",
      "\n"
     ]
    },
    {
     "data": {
      "text/html": [
       "<table class=\"dataframe\">\n",
       "<caption>A matrix: 2 × 2 of type dbl</caption>\n",
       "<thead>\n",
       "\t<tr><th></th><th scope=col>2.5 %</th><th scope=col>97.5 %</th></tr>\n",
       "</thead>\n",
       "<tbody>\n",
       "\t<tr><th scope=row>(Intercept)</th><td>0.0009320107</td><td>0.001318394</td></tr>\n",
       "\t<tr><th scope=row>bmi</th><td>1.1577760342</td><td>1.173723917</td></tr>\n",
       "</tbody>\n",
       "</table>\n"
      ],
      "text/latex": [
       "A matrix: 2 × 2 of type dbl\n",
       "\\begin{tabular}{r|ll}\n",
       "  & 2.5 \\% & 97.5 \\%\\\\\n",
       "\\hline\n",
       "\t(Intercept) & 0.0009320107 & 0.001318394\\\\\n",
       "\tbmi & 1.1577760342 & 1.173723917\\\\\n",
       "\\end{tabular}\n"
      ],
      "text/markdown": [
       "\n",
       "A matrix: 2 × 2 of type dbl\n",
       "\n",
       "| <!--/--> | 2.5 % | 97.5 % |\n",
       "|---|---|---|\n",
       "| (Intercept) | 0.0009320107 | 0.001318394 |\n",
       "| bmi | 1.1577760342 | 1.173723917 |\n",
       "\n"
      ],
      "text/plain": [
       "            2.5 %        97.5 %     \n",
       "(Intercept) 0.0009320107 0.001318394\n",
       "bmi         1.1577760342 1.173723917"
      ]
     },
     "metadata": {},
     "output_type": "display_data"
    },
    {
     "name": "stderr",
     "output_type": "stream",
     "text": [
      "Waiting for profiling to be done...\n",
      "\n"
     ]
    },
    {
     "data": {
      "text/html": [
       "<table class=\"dataframe\">\n",
       "<caption>A matrix: 2 × 3 of type dbl</caption>\n",
       "<thead>\n",
       "\t<tr><th></th><th scope=col></th><th scope=col>2.5 %</th><th scope=col>97.5 %</th></tr>\n",
       "</thead>\n",
       "<tbody>\n",
       "\t<tr><th scope=row>(Intercept)</th><td>0.001108633</td><td>0.0009320107</td><td>0.001318394</td></tr>\n",
       "\t<tr><th scope=row>bmi</th><td>1.165727223</td><td>1.1577760342</td><td>1.173723917</td></tr>\n",
       "</tbody>\n",
       "</table>\n"
      ],
      "text/latex": [
       "A matrix: 2 × 3 of type dbl\n",
       "\\begin{tabular}{r|lll}\n",
       "  &  & 2.5 \\% & 97.5 \\%\\\\\n",
       "\\hline\n",
       "\t(Intercept) & 0.001108633 & 0.0009320107 & 0.001318394\\\\\n",
       "\tbmi & 1.165727223 & 1.1577760342 & 1.173723917\\\\\n",
       "\\end{tabular}\n"
      ],
      "text/markdown": [
       "\n",
       "A matrix: 2 × 3 of type dbl\n",
       "\n",
       "| <!--/--> | <!----> | 2.5 % | 97.5 % |\n",
       "|---|---|---|---|\n",
       "| (Intercept) | 0.001108633 | 0.0009320107 | 0.001318394 |\n",
       "| bmi | 1.165727223 | 1.1577760342 | 1.173723917 |\n",
       "\n"
      ],
      "text/plain": [
       "                        2.5 %        97.5 %     \n",
       "(Intercept) 0.001108633 0.0009320107 0.001318394\n",
       "bmi         1.165727223 1.1577760342 1.173723917"
      ]
     },
     "metadata": {},
     "output_type": "display_data"
    },
    {
     "data": {
      "text/html": [
       "<table class=\"dataframe\">\n",
       "<caption>A data.frame: 159609 × 4</caption>\n",
       "<thead>\n",
       "\t<tr><th scope=col>id</th><th scope=col>dm</th><th scope=col>pred_dm</th><th scope=col>bmi</th></tr>\n",
       "\t<tr><th scope=col>&lt;chr&gt;</th><th scope=col>&lt;dbl&gt;</th><th scope=col>&lt;dbl&gt;</th><th scope=col>&lt;dbl&gt;</th></tr>\n",
       "</thead>\n",
       "<tbody>\n",
       "\t<tr><td>1 </td><td>0</td><td>0.02268723</td><td>19.83515</td></tr>\n",
       "\t<tr><td>2 </td><td>0</td><td>0.07002469</td><td>27.50865</td></tr>\n",
       "\t<tr><td>3 </td><td>1</td><td>0.04177301</td><td>23.94464</td></tr>\n",
       "\t<tr><td>4 </td><td>0</td><td>0.04363959</td><td>24.24242</td></tr>\n",
       "\t<tr><td>5 </td><td>0</td><td>0.02126852</td><td>19.40458</td></tr>\n",
       "\t<tr><td>6 </td><td>0</td><td>0.03002293</td><td>21.71126</td></tr>\n",
       "\t<tr><td>7 </td><td>0</td><td>0.03180646</td><td>22.09959</td></tr>\n",
       "\t<tr><td>8 </td><td>0</td><td>0.07053606</td><td>27.55969</td></tr>\n",
       "\t<tr><td>9 </td><td>0</td><td>0.02749334</td><td>21.12029</td></tr>\n",
       "\t<tr><td>10</td><td>0</td><td>0.03608547</td><td>22.95160</td></tr>\n",
       "\t<tr><td>11</td><td>0</td><td>0.03798395</td><td>23.29882</td></tr>\n",
       "\t<tr><td>12</td><td>0</td><td>0.04359897</td><td>24.23607</td></tr>\n",
       "\t<tr><td>13</td><td>0</td><td>0.02724832</td><td>21.06028</td></tr>\n",
       "\t<tr><td>14</td><td>0</td><td>0.05220197</td><td>25.46939</td></tr>\n",
       "\t<tr><td>15</td><td>0</td><td>0.02651519</td><td>20.87750</td></tr>\n",
       "\t<tr><td>16</td><td>0</td><td>0.02322189</td><td>19.99062</td></tr>\n",
       "\t<tr><td>17</td><td>0</td><td>0.06565266</td><td>27.05764</td></tr>\n",
       "\t<tr><td>18</td><td>0</td><td>0.02712668</td><td>21.03028</td></tr>\n",
       "\t<tr><td>19</td><td>0</td><td>0.03286664</td><td>22.32056</td></tr>\n",
       "\t<tr><td>20</td><td>1</td><td>0.08994244</td><td>29.28225</td></tr>\n",
       "\t<tr><td>21</td><td>0</td><td>0.01405581</td><td>16.65565</td></tr>\n",
       "\t<tr><td>22</td><td>0</td><td>0.03469099</td><td>22.68516</td></tr>\n",
       "\t<tr><td>23</td><td>0</td><td>0.02871159</td><td>21.41121</td></tr>\n",
       "\t<tr><td>24</td><td>0</td><td>0.05177521</td><td>25.41292</td></tr>\n",
       "\t<tr><td>25</td><td>0</td><td>0.03277648</td><td>22.30204</td></tr>\n",
       "\t<tr><td>26</td><td>0</td><td>0.05747522</td><td>26.13333</td></tr>\n",
       "\t<tr><td>27</td><td>0</td><td>0.02868076</td><td>21.40400</td></tr>\n",
       "\t<tr><td>28</td><td>0</td><td>0.05653885</td><td>26.01974</td></tr>\n",
       "\t<tr><td>29</td><td>0</td><td>0.03552986</td><td>22.84665</td></tr>\n",
       "\t<tr><td>30</td><td>0</td><td>0.03085740</td><td>21.89566</td></tr>\n",
       "\t<tr><td>⋮</td><td>⋮</td><td>⋮</td><td>⋮</td></tr>\n",
       "\t<tr><td>159922</td><td>0</td><td>0.05224757</td><td>25.47539</td></tr>\n",
       "\t<tr><td>159923</td><td>0</td><td>0.02506746</td><td>20.50166</td></tr>\n",
       "\t<tr><td>159924</td><td>0</td><td>0.05391779</td><td>25.69210</td></tr>\n",
       "\t<tr><td>159925</td><td>0</td><td>0.05170316</td><td>25.40334</td></tr>\n",
       "\t<tr><td>159926</td><td>0</td><td>0.01663292</td><td>17.77056</td></tr>\n",
       "\t<tr><td>159927</td><td>0</td><td>0.16481171</td><td>33.79158</td></tr>\n",
       "\t<tr><td>159928</td><td>0</td><td>0.04847443</td><td>24.96067</td></tr>\n",
       "\t<tr><td>159929</td><td>0</td><td>0.07339564</td><td>27.83894</td></tr>\n",
       "\t<tr><td>159930</td><td>0</td><td>0.06079607</td><td>26.52266</td></tr>\n",
       "\t<tr><td>159931</td><td>0</td><td>0.09591443</td><td>29.74441</td></tr>\n",
       "\t<tr><td>159932</td><td>0</td><td>0.04394256</td><td>24.28961</td></tr>\n",
       "\t<tr><td>159933</td><td>0</td><td>0.02804066</td><td>21.25251</td></tr>\n",
       "\t<tr><td>159934</td><td>0</td><td>0.02910387</td><td>21.50234</td></tr>\n",
       "\t<tr><td>159935</td><td>0</td><td>0.04242256</td><td>24.04968</td></tr>\n",
       "\t<tr><td>159936</td><td>0</td><td>0.05159109</td><td>25.38842</td></tr>\n",
       "\t<tr><td>159937</td><td>0</td><td>0.04113788</td><td>23.84040</td></tr>\n",
       "\t<tr><td>159938</td><td>0</td><td>0.01415155</td><td>16.70056</td></tr>\n",
       "\t<tr><td>159939</td><td>0</td><td>0.03164961</td><td>22.06630</td></tr>\n",
       "\t<tr><td>159940</td><td>0</td><td>0.05680740</td><td>26.05250</td></tr>\n",
       "\t<tr><td>159941</td><td>0</td><td>0.03499473</td><td>22.74406</td></tr>\n",
       "\t<tr><td>159942</td><td>0</td><td>0.14462308</td><td>32.78367</td></tr>\n",
       "\t<tr><td>159943</td><td>0</td><td>0.05230612</td><td>25.48310</td></tr>\n",
       "\t<tr><td>159944</td><td>0</td><td>0.03426304</td><td>22.60133</td></tr>\n",
       "\t<tr><td>159945</td><td>0</td><td>0.07606283</td><td>28.09051</td></tr>\n",
       "\t<tr><td>159946</td><td>0</td><td>0.14969564</td><td>33.04727</td></tr>\n",
       "\t<tr><td>159947</td><td>0</td><td>0.03610914</td><td>22.95603</td></tr>\n",
       "\t<tr><td>159948</td><td>0</td><td>0.17188872</td><td>34.12125</td></tr>\n",
       "\t<tr><td>159949</td><td>0</td><td>0.04217615</td><td>24.01001</td></tr>\n",
       "\t<tr><td>159950</td><td>0</td><td>0.03912394</td><td>23.49939</td></tr>\n",
       "\t<tr><td>159951</td><td>0</td><td>0.02762557</td><td>21.15247</td></tr>\n",
       "</tbody>\n",
       "</table>\n"
      ],
      "text/latex": [
       "A data.frame: 159609 × 4\n",
       "\\begin{tabular}{llll}\n",
       " id & dm & pred\\_dm & bmi\\\\\n",
       " <chr> & <dbl> & <dbl> & <dbl>\\\\\n",
       "\\hline\n",
       "\t 1  & 0 & 0.02268723 & 19.83515\\\\\n",
       "\t 2  & 0 & 0.07002469 & 27.50865\\\\\n",
       "\t 3  & 1 & 0.04177301 & 23.94464\\\\\n",
       "\t 4  & 0 & 0.04363959 & 24.24242\\\\\n",
       "\t 5  & 0 & 0.02126852 & 19.40458\\\\\n",
       "\t 6  & 0 & 0.03002293 & 21.71126\\\\\n",
       "\t 7  & 0 & 0.03180646 & 22.09959\\\\\n",
       "\t 8  & 0 & 0.07053606 & 27.55969\\\\\n",
       "\t 9  & 0 & 0.02749334 & 21.12029\\\\\n",
       "\t 10 & 0 & 0.03608547 & 22.95160\\\\\n",
       "\t 11 & 0 & 0.03798395 & 23.29882\\\\\n",
       "\t 12 & 0 & 0.04359897 & 24.23607\\\\\n",
       "\t 13 & 0 & 0.02724832 & 21.06028\\\\\n",
       "\t 14 & 0 & 0.05220197 & 25.46939\\\\\n",
       "\t 15 & 0 & 0.02651519 & 20.87750\\\\\n",
       "\t 16 & 0 & 0.02322189 & 19.99062\\\\\n",
       "\t 17 & 0 & 0.06565266 & 27.05764\\\\\n",
       "\t 18 & 0 & 0.02712668 & 21.03028\\\\\n",
       "\t 19 & 0 & 0.03286664 & 22.32056\\\\\n",
       "\t 20 & 1 & 0.08994244 & 29.28225\\\\\n",
       "\t 21 & 0 & 0.01405581 & 16.65565\\\\\n",
       "\t 22 & 0 & 0.03469099 & 22.68516\\\\\n",
       "\t 23 & 0 & 0.02871159 & 21.41121\\\\\n",
       "\t 24 & 0 & 0.05177521 & 25.41292\\\\\n",
       "\t 25 & 0 & 0.03277648 & 22.30204\\\\\n",
       "\t 26 & 0 & 0.05747522 & 26.13333\\\\\n",
       "\t 27 & 0 & 0.02868076 & 21.40400\\\\\n",
       "\t 28 & 0 & 0.05653885 & 26.01974\\\\\n",
       "\t 29 & 0 & 0.03552986 & 22.84665\\\\\n",
       "\t 30 & 0 & 0.03085740 & 21.89566\\\\\n",
       "\t ⋮ & ⋮ & ⋮ & ⋮\\\\\n",
       "\t 159922 & 0 & 0.05224757 & 25.47539\\\\\n",
       "\t 159923 & 0 & 0.02506746 & 20.50166\\\\\n",
       "\t 159924 & 0 & 0.05391779 & 25.69210\\\\\n",
       "\t 159925 & 0 & 0.05170316 & 25.40334\\\\\n",
       "\t 159926 & 0 & 0.01663292 & 17.77056\\\\\n",
       "\t 159927 & 0 & 0.16481171 & 33.79158\\\\\n",
       "\t 159928 & 0 & 0.04847443 & 24.96067\\\\\n",
       "\t 159929 & 0 & 0.07339564 & 27.83894\\\\\n",
       "\t 159930 & 0 & 0.06079607 & 26.52266\\\\\n",
       "\t 159931 & 0 & 0.09591443 & 29.74441\\\\\n",
       "\t 159932 & 0 & 0.04394256 & 24.28961\\\\\n",
       "\t 159933 & 0 & 0.02804066 & 21.25251\\\\\n",
       "\t 159934 & 0 & 0.02910387 & 21.50234\\\\\n",
       "\t 159935 & 0 & 0.04242256 & 24.04968\\\\\n",
       "\t 159936 & 0 & 0.05159109 & 25.38842\\\\\n",
       "\t 159937 & 0 & 0.04113788 & 23.84040\\\\\n",
       "\t 159938 & 0 & 0.01415155 & 16.70056\\\\\n",
       "\t 159939 & 0 & 0.03164961 & 22.06630\\\\\n",
       "\t 159940 & 0 & 0.05680740 & 26.05250\\\\\n",
       "\t 159941 & 0 & 0.03499473 & 22.74406\\\\\n",
       "\t 159942 & 0 & 0.14462308 & 32.78367\\\\\n",
       "\t 159943 & 0 & 0.05230612 & 25.48310\\\\\n",
       "\t 159944 & 0 & 0.03426304 & 22.60133\\\\\n",
       "\t 159945 & 0 & 0.07606283 & 28.09051\\\\\n",
       "\t 159946 & 0 & 0.14969564 & 33.04727\\\\\n",
       "\t 159947 & 0 & 0.03610914 & 22.95603\\\\\n",
       "\t 159948 & 0 & 0.17188872 & 34.12125\\\\\n",
       "\t 159949 & 0 & 0.04217615 & 24.01001\\\\\n",
       "\t 159950 & 0 & 0.03912394 & 23.49939\\\\\n",
       "\t 159951 & 0 & 0.02762557 & 21.15247\\\\\n",
       "\\end{tabular}\n"
      ],
      "text/markdown": [
       "\n",
       "A data.frame: 159609 × 4\n",
       "\n",
       "| id &lt;chr&gt; | dm &lt;dbl&gt; | pred_dm &lt;dbl&gt; | bmi &lt;dbl&gt; |\n",
       "|---|---|---|---|\n",
       "| 1  | 0 | 0.02268723 | 19.83515 |\n",
       "| 2  | 0 | 0.07002469 | 27.50865 |\n",
       "| 3  | 1 | 0.04177301 | 23.94464 |\n",
       "| 4  | 0 | 0.04363959 | 24.24242 |\n",
       "| 5  | 0 | 0.02126852 | 19.40458 |\n",
       "| 6  | 0 | 0.03002293 | 21.71126 |\n",
       "| 7  | 0 | 0.03180646 | 22.09959 |\n",
       "| 8  | 0 | 0.07053606 | 27.55969 |\n",
       "| 9  | 0 | 0.02749334 | 21.12029 |\n",
       "| 10 | 0 | 0.03608547 | 22.95160 |\n",
       "| 11 | 0 | 0.03798395 | 23.29882 |\n",
       "| 12 | 0 | 0.04359897 | 24.23607 |\n",
       "| 13 | 0 | 0.02724832 | 21.06028 |\n",
       "| 14 | 0 | 0.05220197 | 25.46939 |\n",
       "| 15 | 0 | 0.02651519 | 20.87750 |\n",
       "| 16 | 0 | 0.02322189 | 19.99062 |\n",
       "| 17 | 0 | 0.06565266 | 27.05764 |\n",
       "| 18 | 0 | 0.02712668 | 21.03028 |\n",
       "| 19 | 0 | 0.03286664 | 22.32056 |\n",
       "| 20 | 1 | 0.08994244 | 29.28225 |\n",
       "| 21 | 0 | 0.01405581 | 16.65565 |\n",
       "| 22 | 0 | 0.03469099 | 22.68516 |\n",
       "| 23 | 0 | 0.02871159 | 21.41121 |\n",
       "| 24 | 0 | 0.05177521 | 25.41292 |\n",
       "| 25 | 0 | 0.03277648 | 22.30204 |\n",
       "| 26 | 0 | 0.05747522 | 26.13333 |\n",
       "| 27 | 0 | 0.02868076 | 21.40400 |\n",
       "| 28 | 0 | 0.05653885 | 26.01974 |\n",
       "| 29 | 0 | 0.03552986 | 22.84665 |\n",
       "| 30 | 0 | 0.03085740 | 21.89566 |\n",
       "| ⋮ | ⋮ | ⋮ | ⋮ |\n",
       "| 159922 | 0 | 0.05224757 | 25.47539 |\n",
       "| 159923 | 0 | 0.02506746 | 20.50166 |\n",
       "| 159924 | 0 | 0.05391779 | 25.69210 |\n",
       "| 159925 | 0 | 0.05170316 | 25.40334 |\n",
       "| 159926 | 0 | 0.01663292 | 17.77056 |\n",
       "| 159927 | 0 | 0.16481171 | 33.79158 |\n",
       "| 159928 | 0 | 0.04847443 | 24.96067 |\n",
       "| 159929 | 0 | 0.07339564 | 27.83894 |\n",
       "| 159930 | 0 | 0.06079607 | 26.52266 |\n",
       "| 159931 | 0 | 0.09591443 | 29.74441 |\n",
       "| 159932 | 0 | 0.04394256 | 24.28961 |\n",
       "| 159933 | 0 | 0.02804066 | 21.25251 |\n",
       "| 159934 | 0 | 0.02910387 | 21.50234 |\n",
       "| 159935 | 0 | 0.04242256 | 24.04968 |\n",
       "| 159936 | 0 | 0.05159109 | 25.38842 |\n",
       "| 159937 | 0 | 0.04113788 | 23.84040 |\n",
       "| 159938 | 0 | 0.01415155 | 16.70056 |\n",
       "| 159939 | 0 | 0.03164961 | 22.06630 |\n",
       "| 159940 | 0 | 0.05680740 | 26.05250 |\n",
       "| 159941 | 0 | 0.03499473 | 22.74406 |\n",
       "| 159942 | 0 | 0.14462308 | 32.78367 |\n",
       "| 159943 | 0 | 0.05230612 | 25.48310 |\n",
       "| 159944 | 0 | 0.03426304 | 22.60133 |\n",
       "| 159945 | 0 | 0.07606283 | 28.09051 |\n",
       "| 159946 | 0 | 0.14969564 | 33.04727 |\n",
       "| 159947 | 0 | 0.03610914 | 22.95603 |\n",
       "| 159948 | 0 | 0.17188872 | 34.12125 |\n",
       "| 159949 | 0 | 0.04217615 | 24.01001 |\n",
       "| 159950 | 0 | 0.03912394 | 23.49939 |\n",
       "| 159951 | 0 | 0.02762557 | 21.15247 |\n",
       "\n"
      ],
      "text/plain": [
       "       id     dm pred_dm    bmi     \n",
       "1      1      0  0.02268723 19.83515\n",
       "2      2      0  0.07002469 27.50865\n",
       "3      3      1  0.04177301 23.94464\n",
       "4      4      0  0.04363959 24.24242\n",
       "5      5      0  0.02126852 19.40458\n",
       "6      6      0  0.03002293 21.71126\n",
       "7      7      0  0.03180646 22.09959\n",
       "8      8      0  0.07053606 27.55969\n",
       "9      9      0  0.02749334 21.12029\n",
       "10     10     0  0.03608547 22.95160\n",
       "11     11     0  0.03798395 23.29882\n",
       "12     12     0  0.04359897 24.23607\n",
       "13     13     0  0.02724832 21.06028\n",
       "14     14     0  0.05220197 25.46939\n",
       "15     15     0  0.02651519 20.87750\n",
       "16     16     0  0.02322189 19.99062\n",
       "17     17     0  0.06565266 27.05764\n",
       "18     18     0  0.02712668 21.03028\n",
       "19     19     0  0.03286664 22.32056\n",
       "20     20     1  0.08994244 29.28225\n",
       "21     21     0  0.01405581 16.65565\n",
       "22     22     0  0.03469099 22.68516\n",
       "23     23     0  0.02871159 21.41121\n",
       "24     24     0  0.05177521 25.41292\n",
       "25     25     0  0.03277648 22.30204\n",
       "26     26     0  0.05747522 26.13333\n",
       "27     27     0  0.02868076 21.40400\n",
       "28     28     0  0.05653885 26.01974\n",
       "29     29     0  0.03552986 22.84665\n",
       "30     30     0  0.03085740 21.89566\n",
       "⋮      ⋮      ⋮  ⋮          ⋮       \n",
       "159580 159922 0  0.05224757 25.47539\n",
       "159581 159923 0  0.02506746 20.50166\n",
       "159582 159924 0  0.05391779 25.69210\n",
       "159583 159925 0  0.05170316 25.40334\n",
       "159584 159926 0  0.01663292 17.77056\n",
       "159585 159927 0  0.16481171 33.79158\n",
       "159586 159928 0  0.04847443 24.96067\n",
       "159587 159929 0  0.07339564 27.83894\n",
       "159588 159930 0  0.06079607 26.52266\n",
       "159589 159931 0  0.09591443 29.74441\n",
       "159590 159932 0  0.04394256 24.28961\n",
       "159591 159933 0  0.02804066 21.25251\n",
       "159592 159934 0  0.02910387 21.50234\n",
       "159593 159935 0  0.04242256 24.04968\n",
       "159594 159936 0  0.05159109 25.38842\n",
       "159595 159937 0  0.04113788 23.84040\n",
       "159596 159938 0  0.01415155 16.70056\n",
       "159597 159939 0  0.03164961 22.06630\n",
       "159598 159940 0  0.05680740 26.05250\n",
       "159599 159941 0  0.03499473 22.74406\n",
       "159600 159942 0  0.14462308 32.78367\n",
       "159601 159943 0  0.05230612 25.48310\n",
       "159602 159944 0  0.03426304 22.60133\n",
       "159603 159945 0  0.07606283 28.09051\n",
       "159604 159946 0  0.14969564 33.04727\n",
       "159605 159947 0  0.03610914 22.95603\n",
       "159606 159948 0  0.17188872 34.12125\n",
       "159607 159949 0  0.04217615 24.01001\n",
       "159608 159950 0  0.03912394 23.49939\n",
       "159609 159951 0  0.02762557 21.15247"
      ]
     },
     "metadata": {},
     "output_type": "display_data"
    },
    {
     "data": {
      "text/html": [
       "<style>\n",
       ".list-inline {list-style: none; margin:0; padding: 0}\n",
       ".list-inline>li {display: inline-block}\n",
       ".list-inline>li:not(:last-child)::after {content: \"\\00b7\"; padding: 0 .5ex}\n",
       "</style>\n",
       "<ol class=list-inline><li>'1'</li><li>'2'</li><li>'3'</li><li>'4'</li></ol>\n"
      ],
      "text/latex": [
       "\\begin{enumerate*}\n",
       "\\item '1'\n",
       "\\item '2'\n",
       "\\item '3'\n",
       "\\item '4'\n",
       "\\end{enumerate*}\n"
      ],
      "text/markdown": [
       "1. '1'\n",
       "2. '2'\n",
       "3. '3'\n",
       "4. '4'\n",
       "\n",
       "\n"
      ],
      "text/plain": [
       "[1] \"1\" \"2\" \"3\" \"4\""
      ]
     },
     "metadata": {},
     "output_type": "display_data"
    },
    {
     "data": {
      "text/plain": [
       "\n",
       "Call:\n",
       "glm(formula = dm ~ bmi_cat, family = \"binomial\", data = bmi_dm)\n",
       "\n",
       "Deviance Residuals: \n",
       "    Min       1Q   Median       3Q      Max  \n",
       "-0.3867  -0.3867  -0.3046  -0.2267   3.0485  \n",
       "\n",
       "Coefficients:\n",
       "            Estimate Std. Error z value Pr(>|z|)    \n",
       "(Intercept)  -4.6369     0.1319 -35.144  < 2e-16 ***\n",
       "bmi_cat2      0.9885     0.1344   7.357 1.88e-13 ***\n",
       "bmi_cat3      1.5896     0.1341  11.858  < 2e-16 ***\n",
       "bmi_cat4      2.0811     0.1331  15.639  < 2e-16 ***\n",
       "---\n",
       "Signif. codes:  0 ‘***’ 0.001 ‘**’ 0.01 ‘*’ 0.05 ‘.’ 0.1 ‘ ’ 1\n",
       "\n",
       "(Dispersion parameter for binomial family taken to be 1)\n",
       "\n",
       "    Null deviance: 58048  on 159608  degrees of freedom\n",
       "Residual deviance: 56408  on 159605  degrees of freedom\n",
       "AIC: 56416\n",
       "\n",
       "Number of Fisher Scoring iterations: 7\n"
      ]
     },
     "metadata": {},
     "output_type": "display_data"
    },
    {
     "name": "stderr",
     "output_type": "stream",
     "text": [
      "Waiting for profiling to be done...\n",
      "\n"
     ]
    },
    {
     "data": {
      "text/html": [
       "<table class=\"dataframe\">\n",
       "<caption>A matrix: 4 × 3 of type dbl</caption>\n",
       "<thead>\n",
       "\t<tr><th></th><th scope=col></th><th scope=col>2.5 %</th><th scope=col>97.5 %</th></tr>\n",
       "</thead>\n",
       "<tbody>\n",
       "\t<tr><th scope=row>(Intercept)</th><td>0.009687657</td><td>0.007395158</td><td> 0.01241587</td></tr>\n",
       "\t<tr><th scope=row>bmi_cat2</th><td>2.687152768</td><td>2.085909813</td><td> 3.53551370</td></tr>\n",
       "\t<tr><th scope=row>bmi_cat3</th><td>4.902028267</td><td>3.807700383</td><td> 6.44610186</td></tr>\n",
       "\t<tr><th scope=row>bmi_cat4</th><td>8.013282085</td><td>6.237386898</td><td>10.51884656</td></tr>\n",
       "</tbody>\n",
       "</table>\n"
      ],
      "text/latex": [
       "A matrix: 4 × 3 of type dbl\n",
       "\\begin{tabular}{r|lll}\n",
       "  &  & 2.5 \\% & 97.5 \\%\\\\\n",
       "\\hline\n",
       "\t(Intercept) & 0.009687657 & 0.007395158 &  0.01241587\\\\\n",
       "\tbmi\\_cat2 & 2.687152768 & 2.085909813 &  3.53551370\\\\\n",
       "\tbmi\\_cat3 & 4.902028267 & 3.807700383 &  6.44610186\\\\\n",
       "\tbmi\\_cat4 & 8.013282085 & 6.237386898 & 10.51884656\\\\\n",
       "\\end{tabular}\n"
      ],
      "text/markdown": [
       "\n",
       "A matrix: 4 × 3 of type dbl\n",
       "\n",
       "| <!--/--> | <!----> | 2.5 % | 97.5 % |\n",
       "|---|---|---|---|\n",
       "| (Intercept) | 0.009687657 | 0.007395158 |  0.01241587 |\n",
       "| bmi_cat2 | 2.687152768 | 2.085909813 |  3.53551370 |\n",
       "| bmi_cat3 | 4.902028267 | 3.807700383 |  6.44610186 |\n",
       "| bmi_cat4 | 8.013282085 | 6.237386898 | 10.51884656 |\n",
       "\n"
      ],
      "text/plain": [
       "                        2.5 %       97.5 %     \n",
       "(Intercept) 0.009687657 0.007395158  0.01241587\n",
       "bmi_cat2    2.687152768 2.085909813  3.53551370\n",
       "bmi_cat3    4.902028267 3.807700383  6.44610186\n",
       "bmi_cat4    8.013282085 6.237386898 10.51884656"
      ]
     },
     "metadata": {},
     "output_type": "display_data"
    },
    {
     "data": {
      "text/plain": [
       "\n",
       "Call:\n",
       "glm(formula = dm ~ relevel(bmi_cat, ref = 2), family = \"binomial\", \n",
       "    data = bmi_dm)\n",
       "\n",
       "Deviance Residuals: \n",
       "    Min       1Q   Median       3Q      Max  \n",
       "-0.3867  -0.3867  -0.3046  -0.2267   3.0485  \n",
       "\n",
       "Coefficients:\n",
       "                           Estimate Std. Error  z value Pr(>|z|)    \n",
       "(Intercept)                -3.64842    0.02539 -143.713  < 2e-16 ***\n",
       "relevel(bmi_cat, ref = 2)1 -0.98848    0.13436   -7.357 1.88e-13 ***\n",
       "relevel(bmi_cat, ref = 2)3  0.60117    0.03474   17.306  < 2e-16 ***\n",
       "relevel(bmi_cat, ref = 2)4  1.09262    0.03075   35.537  < 2e-16 ***\n",
       "---\n",
       "Signif. codes:  0 ‘***’ 0.001 ‘**’ 0.01 ‘*’ 0.05 ‘.’ 0.1 ‘ ’ 1\n",
       "\n",
       "(Dispersion parameter for binomial family taken to be 1)\n",
       "\n",
       "    Null deviance: 58048  on 159608  degrees of freedom\n",
       "Residual deviance: 56408  on 159605  degrees of freedom\n",
       "AIC: 56416\n",
       "\n",
       "Number of Fisher Scoring iterations: 7\n"
      ]
     },
     "metadata": {},
     "output_type": "display_data"
    },
    {
     "name": "stderr",
     "output_type": "stream",
     "text": [
      "Waiting for profiling to be done...\n",
      "\n"
     ]
    },
    {
     "data": {
      "text/html": [
       "<table class=\"dataframe\">\n",
       "<caption>A matrix: 4 × 3 of type dbl</caption>\n",
       "<thead>\n",
       "\t<tr><th></th><th scope=col></th><th scope=col>2.5 %</th><th scope=col>97.5 %</th></tr>\n",
       "</thead>\n",
       "<tbody>\n",
       "\t<tr><th scope=row>(Intercept)</th><td>0.02603221</td><td>0.02475882</td><td>0.02734963</td></tr>\n",
       "\t<tr><th scope=row>relevel(bmi_cat, ref = 2)1</th><td>0.37214110</td><td>0.28284433</td><td>0.47940711</td></tr>\n",
       "\t<tr><th scope=row>relevel(bmi_cat, ref = 2)3</th><td>1.82424622</td><td>1.70426136</td><td>1.95290007</td></tr>\n",
       "\t<tr><th scope=row>relevel(bmi_cat, ref = 2)4</th><td>2.98207165</td><td>2.80826575</td><td>3.16799608</td></tr>\n",
       "</tbody>\n",
       "</table>\n"
      ],
      "text/latex": [
       "A matrix: 4 × 3 of type dbl\n",
       "\\begin{tabular}{r|lll}\n",
       "  &  & 2.5 \\% & 97.5 \\%\\\\\n",
       "\\hline\n",
       "\t(Intercept) & 0.02603221 & 0.02475882 & 0.02734963\\\\\n",
       "\trelevel(bmi\\_cat, ref = 2)1 & 0.37214110 & 0.28284433 & 0.47940711\\\\\n",
       "\trelevel(bmi\\_cat, ref = 2)3 & 1.82424622 & 1.70426136 & 1.95290007\\\\\n",
       "\trelevel(bmi\\_cat, ref = 2)4 & 2.98207165 & 2.80826575 & 3.16799608\\\\\n",
       "\\end{tabular}\n"
      ],
      "text/markdown": [
       "\n",
       "A matrix: 4 × 3 of type dbl\n",
       "\n",
       "| <!--/--> | <!----> | 2.5 % | 97.5 % |\n",
       "|---|---|---|---|\n",
       "| (Intercept) | 0.02603221 | 0.02475882 | 0.02734963 |\n",
       "| relevel(bmi_cat, ref = 2)1 | 0.37214110 | 0.28284433 | 0.47940711 |\n",
       "| relevel(bmi_cat, ref = 2)3 | 1.82424622 | 1.70426136 | 1.95290007 |\n",
       "| relevel(bmi_cat, ref = 2)4 | 2.98207165 | 2.80826575 | 3.16799608 |\n",
       "\n"
      ],
      "text/plain": [
       "                                      2.5 %      97.5 %    \n",
       "(Intercept)                0.02603221 0.02475882 0.02734963\n",
       "relevel(bmi_cat, ref = 2)1 0.37214110 0.28284433 0.47940711\n",
       "relevel(bmi_cat, ref = 2)3 1.82424622 1.70426136 1.95290007\n",
       "relevel(bmi_cat, ref = 2)4 2.98207165 2.80826575 3.16799608"
      ]
     },
     "metadata": {},
     "output_type": "display_data"
    },
    {
     "data": {
      "image/png": "[encoded data removed]",
      "text/plain": [
       "Plot with title “Histogram of bmi_dm$pred_dm[bmi_dm$dm == 1]”"
      ]
     },
     "metadata": {
      "image/png": {
       "height": 420,
       "width": 420
      }
     },
     "output_type": "display_data"
    }
   ],
   "source": [
    "# 4: logistic regression\n",
    "#---- univariable\n",
    "#-- continuous exposure\n",
    "\n",
    "?glm\n",
    "model1<-glm(dm~bmi, family= \"binomial\", data=bmi_dm)\n",
    "summary(model1)\n",
    "\n",
    "exp(coef(model1))\n",
    "exp(confint(model1)) #we can obatin 95%ci with odds ratio \n",
    "exp(cbind(coef(model1), confint(model1)))\n",
    "\n",
    "bmi_dm$pred_dm <-fitted(model1) # get the prediction values from the model\n",
    "\n",
    "bmi_dm %>% select(id, dm, pred_dm, bmi) \n",
    "par(mfrow = c(1, 2))\n",
    "hist(bmi_dm$pred_dm[bmi_dm$dm==0]) \n",
    "hist(bmi_dm$pred_dm[bmi_dm$dm==1]) \n",
    "\n",
    "#-categorical exposure\n",
    "bmi_dm$bmi_cat <-as.factor(bmi_dm$bmi_cat)\n",
    "levels(bmi_dm$bmi_cat)\n",
    "model2<-glm(dm~ bmi_cat , family= \"binomial\" , data=bmi_dm)\n",
    "summary(model2)\n",
    "exp(cbind(coef(model2), confint(model2)))\n",
    "\n",
    "# reference change\n",
    "model3<-glm(dm~ relevel(bmi_cat,ref=2), family= \"binomial\" , data=bmi_dm)\n",
    "summary(model3)\n",
    "exp(cbind(coef(model3), confint(model3)))"
   ]
  },
  {
   "cell_type": "code",
   "execution_count": 29,
   "id": "5f293992",
   "metadata": {},
   "outputs": [
    {
     "data": {
      "text/plain": [
       "\n",
       "Call:\n",
       "glm(formula = dm ~ bmi + age + sex, family = \"binomial\", data = bmi_dm)\n",
       "\n",
       "Deviance Residuals: \n",
       "    Min       1Q   Median       3Q      Max  \n",
       "-1.5909  -0.3416  -0.2493  -0.1685   3.3924  \n",
       "\n",
       "Coefficients:\n",
       "             Estimate Std. Error z value Pr(>|z|)    \n",
       "(Intercept) -8.975171   0.122108  -73.50   <2e-16 ***\n",
       "bmi          0.134960   0.003927   34.37   <2e-16 ***\n",
       "age          0.055883   0.001173   47.63   <2e-16 ***\n",
       "sex2        -0.800055   0.028501  -28.07   <2e-16 ***\n",
       "---\n",
       "Signif. codes:  0 ‘***’ 0.001 ‘**’ 0.01 ‘*’ 0.05 ‘.’ 0.1 ‘ ’ 1\n",
       "\n",
       "(Dispersion parameter for binomial family taken to be 1)\n",
       "\n",
       "    Null deviance: 58048  on 159608  degrees of freedom\n",
       "Residual deviance: 53164  on 159605  degrees of freedom\n",
       "AIC: 53172\n",
       "\n",
       "Number of Fisher Scoring iterations: 6\n"
      ]
     },
     "metadata": {},
     "output_type": "display_data"
    },
    {
     "name": "stderr",
     "output_type": "stream",
     "text": [
      "Waiting for profiling to be done...\n",
      "\n"
     ]
    },
    {
     "data": {
      "text/html": [
       "<table class=\"dataframe\">\n",
       "<caption>A matrix: 4 × 3 of type dbl</caption>\n",
       "<thead>\n",
       "\t<tr><th></th><th scope=col></th><th scope=col>2.5 %</th><th scope=col>97.5 %</th></tr>\n",
       "</thead>\n",
       "<tbody>\n",
       "\t<tr><th scope=row>(Intercept)</th><td>0.0001265123</td><td>9.955293e-05</td><td>0.0001606766</td></tr>\n",
       "\t<tr><th scope=row>bmi</th><td>1.1444909022</td><td>1.135702e+00</td><td>1.1533218400</td></tr>\n",
       "\t<tr><th scope=row>age</th><td>1.0574738067</td><td>1.055047e+00</td><td>1.0599105175</td></tr>\n",
       "\t<tr><th scope=row>sex2</th><td>0.4493042232</td><td>4.247973e-01</td><td>0.4750172827</td></tr>\n",
       "</tbody>\n",
       "</table>\n"
      ],
      "text/latex": [
       "A matrix: 4 × 3 of type dbl\n",
       "\\begin{tabular}{r|lll}\n",
       "  &  & 2.5 \\% & 97.5 \\%\\\\\n",
       "\\hline\n",
       "\t(Intercept) & 0.0001265123 & 9.955293e-05 & 0.0001606766\\\\\n",
       "\tbmi & 1.1444909022 & 1.135702e+00 & 1.1533218400\\\\\n",
       "\tage & 1.0574738067 & 1.055047e+00 & 1.0599105175\\\\\n",
       "\tsex2 & 0.4493042232 & 4.247973e-01 & 0.4750172827\\\\\n",
       "\\end{tabular}\n"
      ],
      "text/markdown": [
       "\n",
       "A matrix: 4 × 3 of type dbl\n",
       "\n",
       "| <!--/--> | <!----> | 2.5 % | 97.5 % |\n",
       "|---|---|---|---|\n",
       "| (Intercept) | 0.0001265123 | 9.955293e-05 | 0.0001606766 |\n",
       "| bmi | 1.1444909022 | 1.135702e+00 | 1.1533218400 |\n",
       "| age | 1.0574738067 | 1.055047e+00 | 1.0599105175 |\n",
       "| sex2 | 0.4493042232 | 4.247973e-01 | 0.4750172827 |\n",
       "\n"
      ],
      "text/plain": [
       "                         2.5 %        97.5 %      \n",
       "(Intercept) 0.0001265123 9.955293e-05 0.0001606766\n",
       "bmi         1.1444909022 1.135702e+00 1.1533218400\n",
       "age         1.0574738067 1.055047e+00 1.0599105175\n",
       "sex2        0.4493042232 4.247973e-01 0.4750172827"
      ]
     },
     "metadata": {},
     "output_type": "display_data"
    },
    {
     "data": {
      "text/plain": [
       "\n",
       "Call:\n",
       "glm(formula = dm ~ bmi + age + sex + smk_status, family = \"binomial\", \n",
       "    data = bmi_dm)\n",
       "\n",
       "Deviance Residuals: \n",
       "    Min       1Q   Median       3Q      Max  \n",
       "-1.8396  -0.3418  -0.2471  -0.1656   3.3739  \n",
       "\n",
       "Coefficients:\n",
       "              Estimate Std. Error z value Pr(>|z|)    \n",
       "(Intercept)  -9.350512   0.126425 -73.961  < 2e-16 ***\n",
       "bmi           0.134148   0.003928  34.155  < 2e-16 ***\n",
       "age           0.058870   0.001209  48.709  < 2e-16 ***\n",
       "sex2         -0.605297   0.035385 -17.106  < 2e-16 ***\n",
       "smk_status2   0.163142   0.043823   3.723 0.000197 ***\n",
       "smk_status3   0.475781   0.037476  12.695  < 2e-16 ***\n",
       "smk_status99  0.158103   0.037827   4.180 2.92e-05 ***\n",
       "---\n",
       "Signif. codes:  0 ‘***’ 0.001 ‘**’ 0.01 ‘*’ 0.05 ‘.’ 0.1 ‘ ’ 1\n",
       "\n",
       "(Dispersion parameter for binomial family taken to be 1)\n",
       "\n",
       "    Null deviance: 58048  on 159608  degrees of freedom\n",
       "Residual deviance: 52990  on 159602  degrees of freedom\n",
       "AIC: 53004\n",
       "\n",
       "Number of Fisher Scoring iterations: 6\n"
      ]
     },
     "metadata": {},
     "output_type": "display_data"
    },
    {
     "name": "stderr",
     "output_type": "stream",
     "text": [
      "Waiting for profiling to be done...\n",
      "\n"
     ]
    },
    {
     "data": {
      "text/html": [
       "<table class=\"dataframe\">\n",
       "<caption>A matrix: 7 × 3 of type dbl</caption>\n",
       "<thead>\n",
       "\t<tr><th></th><th scope=col></th><th scope=col>2.5 %</th><th scope=col>97.5 %</th></tr>\n",
       "</thead>\n",
       "<tbody>\n",
       "\t<tr><th scope=row>(Intercept)</th><td>8.692089e-05</td><td>6.781827e-05</td><td>0.0001113262</td></tr>\n",
       "\t<tr><th scope=row>bmi</th><td>1.143562e+00</td><td>1.134779e+00</td><td>1.1523868410</td></tr>\n",
       "\t<tr><th scope=row>age</th><td>1.060637e+00</td><td>1.058130e+00</td><td>1.0631549649</td></tr>\n",
       "\t<tr><th scope=row>sex2</th><td>5.459125e-01</td><td>5.092916e-01</td><td>0.5850780732</td></tr>\n",
       "\t<tr><th scope=row>smk_status2</th><td>1.177204e+00</td><td>1.080109e+00</td><td>1.2825691065</td></tr>\n",
       "\t<tr><th scope=row>smk_status3</th><td>1.609270e+00</td><td>1.495415e+00</td><td>1.7320785386</td></tr>\n",
       "\t<tr><th scope=row>smk_status99</th><td>1.171287e+00</td><td>1.087475e+00</td><td>1.2613145815</td></tr>\n",
       "</tbody>\n",
       "</table>\n"
      ],
      "text/latex": [
       "A matrix: 7 × 3 of type dbl\n",
       "\\begin{tabular}{r|lll}\n",
       "  &  & 2.5 \\% & 97.5 \\%\\\\\n",
       "\\hline\n",
       "\t(Intercept) & 8.692089e-05 & 6.781827e-05 & 0.0001113262\\\\\n",
       "\tbmi & 1.143562e+00 & 1.134779e+00 & 1.1523868410\\\\\n",
       "\tage & 1.060637e+00 & 1.058130e+00 & 1.0631549649\\\\\n",
       "\tsex2 & 5.459125e-01 & 5.092916e-01 & 0.5850780732\\\\\n",
       "\tsmk\\_status2 & 1.177204e+00 & 1.080109e+00 & 1.2825691065\\\\\n",
       "\tsmk\\_status3 & 1.609270e+00 & 1.495415e+00 & 1.7320785386\\\\\n",
       "\tsmk\\_status99 & 1.171287e+00 & 1.087475e+00 & 1.2613145815\\\\\n",
       "\\end{tabular}\n"
      ],
      "text/markdown": [
       "\n",
       "A matrix: 7 × 3 of type dbl\n",
       "\n",
       "| <!--/--> | <!----> | 2.5 % | 97.5 % |\n",
       "|---|---|---|---|\n",
       "| (Intercept) | 8.692089e-05 | 6.781827e-05 | 0.0001113262 |\n",
       "| bmi | 1.143562e+00 | 1.134779e+00 | 1.1523868410 |\n",
       "| age | 1.060637e+00 | 1.058130e+00 | 1.0631549649 |\n",
       "| sex2 | 5.459125e-01 | 5.092916e-01 | 0.5850780732 |\n",
       "| smk_status2 | 1.177204e+00 | 1.080109e+00 | 1.2825691065 |\n",
       "| smk_status3 | 1.609270e+00 | 1.495415e+00 | 1.7320785386 |\n",
       "| smk_status99 | 1.171287e+00 | 1.087475e+00 | 1.2613145815 |\n",
       "\n"
      ],
      "text/plain": [
       "                          2.5 %        97.5 %      \n",
       "(Intercept)  8.692089e-05 6.781827e-05 0.0001113262\n",
       "bmi          1.143562e+00 1.134779e+00 1.1523868410\n",
       "age          1.060637e+00 1.058130e+00 1.0631549649\n",
       "sex2         5.459125e-01 5.092916e-01 0.5850780732\n",
       "smk_status2  1.177204e+00 1.080109e+00 1.2825691065\n",
       "smk_status3  1.609270e+00 1.495415e+00 1.7320785386\n",
       "smk_status99 1.171287e+00 1.087475e+00 1.2613145815"
      ]
     },
     "metadata": {},
     "output_type": "display_data"
    },
    {
     "data": {
      "text/plain": [
       "\n",
       "    1     2     3     4 \n",
       "83520 15867 33695 26527 "
      ]
     },
     "metadata": {},
     "output_type": "display_data"
    },
    {
     "data": {
      "text/plain": [
       "\n",
       "Call:\n",
       "glm(formula = dm ~ bmi + age + sex + smk_status, family = \"binomial\", \n",
       "    data = bmi_dm)\n",
       "\n",
       "Deviance Residuals: \n",
       "    Min       1Q   Median       3Q      Max  \n",
       "-1.8396  -0.3418  -0.2471  -0.1656   3.3739  \n",
       "\n",
       "Coefficients:\n",
       "             Estimate Std. Error z value Pr(>|z|)    \n",
       "(Intercept) -9.350512   0.126425 -73.961  < 2e-16 ***\n",
       "bmi          0.134148   0.003928  34.155  < 2e-16 ***\n",
       "age          0.058870   0.001209  48.709  < 2e-16 ***\n",
       "sex2        -0.605297   0.035385 -17.106  < 2e-16 ***\n",
       "smk_status2  0.163142   0.043823   3.723 0.000197 ***\n",
       "smk_status3  0.475781   0.037476  12.695  < 2e-16 ***\n",
       "smk_status4  0.158103   0.037827   4.180 2.92e-05 ***\n",
       "---\n",
       "Signif. codes:  0 ‘***’ 0.001 ‘**’ 0.01 ‘*’ 0.05 ‘.’ 0.1 ‘ ’ 1\n",
       "\n",
       "(Dispersion parameter for binomial family taken to be 1)\n",
       "\n",
       "    Null deviance: 58048  on 159608  degrees of freedom\n",
       "Residual deviance: 52990  on 159602  degrees of freedom\n",
       "AIC: 53004\n",
       "\n",
       "Number of Fisher Scoring iterations: 6\n"
      ]
     },
     "metadata": {},
     "output_type": "display_data"
    },
    {
     "name": "stderr",
     "output_type": "stream",
     "text": [
      "Waiting for profiling to be done...\n",
      "\n"
     ]
    },
    {
     "data": {
      "text/html": [
       "<table class=\"dataframe\">\n",
       "<caption>A matrix: 7 × 3 of type dbl</caption>\n",
       "<thead>\n",
       "\t<tr><th></th><th scope=col></th><th scope=col>2.5 %</th><th scope=col>97.5 %</th></tr>\n",
       "</thead>\n",
       "<tbody>\n",
       "\t<tr><th scope=row>(Intercept)</th><td>8.692089e-05</td><td>6.781827e-05</td><td>0.0001113262</td></tr>\n",
       "\t<tr><th scope=row>bmi</th><td>1.143562e+00</td><td>1.134779e+00</td><td>1.1523868410</td></tr>\n",
       "\t<tr><th scope=row>age</th><td>1.060637e+00</td><td>1.058130e+00</td><td>1.0631549649</td></tr>\n",
       "\t<tr><th scope=row>sex2</th><td>5.459125e-01</td><td>5.092916e-01</td><td>0.5850780732</td></tr>\n",
       "\t<tr><th scope=row>smk_status2</th><td>1.177204e+00</td><td>1.080109e+00</td><td>1.2825691065</td></tr>\n",
       "\t<tr><th scope=row>smk_status3</th><td>1.609270e+00</td><td>1.495415e+00</td><td>1.7320785386</td></tr>\n",
       "\t<tr><th scope=row>smk_status4</th><td>1.171287e+00</td><td>1.087475e+00</td><td>1.2613145815</td></tr>\n",
       "</tbody>\n",
       "</table>\n"
      ],
      "text/latex": [
       "A matrix: 7 × 3 of type dbl\n",
       "\\begin{tabular}{r|lll}\n",
       "  &  & 2.5 \\% & 97.5 \\%\\\\\n",
       "\\hline\n",
       "\t(Intercept) & 8.692089e-05 & 6.781827e-05 & 0.0001113262\\\\\n",
       "\tbmi & 1.143562e+00 & 1.134779e+00 & 1.1523868410\\\\\n",
       "\tage & 1.060637e+00 & 1.058130e+00 & 1.0631549649\\\\\n",
       "\tsex2 & 5.459125e-01 & 5.092916e-01 & 0.5850780732\\\\\n",
       "\tsmk\\_status2 & 1.177204e+00 & 1.080109e+00 & 1.2825691065\\\\\n",
       "\tsmk\\_status3 & 1.609270e+00 & 1.495415e+00 & 1.7320785386\\\\\n",
       "\tsmk\\_status4 & 1.171287e+00 & 1.087475e+00 & 1.2613145815\\\\\n",
       "\\end{tabular}\n"
      ],
      "text/markdown": [
       "\n",
       "A matrix: 7 × 3 of type dbl\n",
       "\n",
       "| <!--/--> | <!----> | 2.5 % | 97.5 % |\n",
       "|---|---|---|---|\n",
       "| (Intercept) | 8.692089e-05 | 6.781827e-05 | 0.0001113262 |\n",
       "| bmi | 1.143562e+00 | 1.134779e+00 | 1.1523868410 |\n",
       "| age | 1.060637e+00 | 1.058130e+00 | 1.0631549649 |\n",
       "| sex2 | 5.459125e-01 | 5.092916e-01 | 0.5850780732 |\n",
       "| smk_status2 | 1.177204e+00 | 1.080109e+00 | 1.2825691065 |\n",
       "| smk_status3 | 1.609270e+00 | 1.495415e+00 | 1.7320785386 |\n",
       "| smk_status4 | 1.171287e+00 | 1.087475e+00 | 1.2613145815 |\n",
       "\n"
      ],
      "text/plain": [
       "                         2.5 %        97.5 %      \n",
       "(Intercept) 8.692089e-05 6.781827e-05 0.0001113262\n",
       "bmi         1.143562e+00 1.134779e+00 1.1523868410\n",
       "age         1.060637e+00 1.058130e+00 1.0631549649\n",
       "sex2        5.459125e-01 5.092916e-01 0.5850780732\n",
       "smk_status2 1.177204e+00 1.080109e+00 1.2825691065\n",
       "smk_status3 1.609270e+00 1.495415e+00 1.7320785386\n",
       "smk_status4 1.171287e+00 1.087475e+00 1.2613145815"
      ]
     },
     "metadata": {},
     "output_type": "display_data"
    }
   ],
   "source": [
    "#---- multivariable\n",
    "# multivariable logistic regression\n",
    "bmi_dm$sex <-as.factor(bmi_dm$sex)\n",
    "\n",
    "model4<-glm(dm~ bmi+age+sex , family= \"binomial\", data=bmi_dm)\n",
    "summary(model4)\n",
    "exp(cbind(coef(model4), confint(model4)))\n",
    "\n",
    "bmi_dm$smk_status <-as.factor(bmi_dm$smk_status)\n",
    "model5=glm(dm~ bmi+age+sex+smk_status, family= \"binomial\" , data=bmi_dm)\n",
    "summary(model5)\n",
    "exp(cbind(coef(model5), confint(model5)))\n",
    "\n",
    "bmi_dm$smk_status <- as.factor(ifelse(is.na(bmi_dm$smk_status),99,bmi_dm$smk_status))\n",
    "table(bmi_dm$smk_status, useNA = \"ifany\")\n",
    "\n",
    "model6=glm(dm~ bmi+age+sex+smk_status, family= \"binomial\" , data=bmi_dm)\n",
    "summary(model6)\n",
    "exp(cbind(coef(model6), confint(model6)))"
   ]
  },
  {
   "cell_type": "code",
   "execution_count": 30,
   "id": "ea09bc3f",
   "metadata": {
    "scrolled": false
   },
   "outputs": [
    {
     "data": {
      "text/html": [
       "<table class=\"dataframe\">\n",
       "<caption>A matrix: 4 × 3 of type dbl</caption>\n",
       "<thead>\n",
       "\t<tr><th></th><th scope=col>GVIF</th><th scope=col>Df</th><th scope=col>GVIF^(1/(2*Df))</th></tr>\n",
       "</thead>\n",
       "<tbody>\n",
       "\t<tr><th scope=row>bmi</th><td>1.022315</td><td>1</td><td>1.011096</td></tr>\n",
       "\t<tr><th scope=row>age</th><td>1.067071</td><td>1</td><td>1.032991</td></tr>\n",
       "\t<tr><th scope=row>sex</th><td>1.572633</td><td>1</td><td>1.254047</td></tr>\n",
       "\t<tr><th scope=row>smk_status</th><td>1.647827</td><td>3</td><td>1.086806</td></tr>\n",
       "</tbody>\n",
       "</table>\n"
      ],
      "text/latex": [
       "A matrix: 4 × 3 of type dbl\n",
       "\\begin{tabular}{r|lll}\n",
       "  & GVIF & Df & GVIF\\textasciicircum{}(1/(2*Df))\\\\\n",
       "\\hline\n",
       "\tbmi & 1.022315 & 1 & 1.011096\\\\\n",
       "\tage & 1.067071 & 1 & 1.032991\\\\\n",
       "\tsex & 1.572633 & 1 & 1.254047\\\\\n",
       "\tsmk\\_status & 1.647827 & 3 & 1.086806\\\\\n",
       "\\end{tabular}\n"
      ],
      "text/markdown": [
       "\n",
       "A matrix: 4 × 3 of type dbl\n",
       "\n",
       "| <!--/--> | GVIF | Df | GVIF^(1/(2*Df)) |\n",
       "|---|---|---|---|\n",
       "| bmi | 1.022315 | 1 | 1.011096 |\n",
       "| age | 1.067071 | 1 | 1.032991 |\n",
       "| sex | 1.572633 | 1 | 1.254047 |\n",
       "| smk_status | 1.647827 | 3 | 1.086806 |\n",
       "\n"
      ],
      "text/plain": [
       "           GVIF     Df GVIF^(1/(2*Df))\n",
       "bmi        1.022315 1  1.011096       \n",
       "age        1.067071 1  1.032991       \n",
       "sex        1.572633 1  1.254047       \n",
       "smk_status 1.647827 3  1.086806       "
      ]
     },
     "metadata": {},
     "output_type": "display_data"
    },
    {
     "data": {
      "text/html": [
       "<table class=\"dataframe\">\n",
       "<caption>A matrix: 4 × 3 of type lgl</caption>\n",
       "<thead>\n",
       "\t<tr><th></th><th scope=col>GVIF</th><th scope=col>Df</th><th scope=col>GVIF^(1/(2*Df))</th></tr>\n",
       "</thead>\n",
       "<tbody>\n",
       "\t<tr><th scope=row>bmi</th><td>FALSE</td><td>FALSE</td><td>FALSE</td></tr>\n",
       "\t<tr><th scope=row>age</th><td>FALSE</td><td>FALSE</td><td>FALSE</td></tr>\n",
       "\t<tr><th scope=row>sex</th><td>FALSE</td><td>FALSE</td><td>FALSE</td></tr>\n",
       "\t<tr><th scope=row>smk_status</th><td>FALSE</td><td>FALSE</td><td>FALSE</td></tr>\n",
       "</tbody>\n",
       "</table>\n"
      ],
      "text/latex": [
       "A matrix: 4 × 3 of type lgl\n",
       "\\begin{tabular}{r|lll}\n",
       "  & GVIF & Df & GVIF\\textasciicircum{}(1/(2*Df))\\\\\n",
       "\\hline\n",
       "\tbmi & FALSE & FALSE & FALSE\\\\\n",
       "\tage & FALSE & FALSE & FALSE\\\\\n",
       "\tsex & FALSE & FALSE & FALSE\\\\\n",
       "\tsmk\\_status & FALSE & FALSE & FALSE\\\\\n",
       "\\end{tabular}\n"
      ],
      "text/markdown": [
       "\n",
       "A matrix: 4 × 3 of type lgl\n",
       "\n",
       "| <!--/--> | GVIF | Df | GVIF^(1/(2*Df)) |\n",
       "|---|---|---|---|\n",
       "| bmi | FALSE | FALSE | FALSE |\n",
       "| age | FALSE | FALSE | FALSE |\n",
       "| sex | FALSE | FALSE | FALSE |\n",
       "| smk_status | FALSE | FALSE | FALSE |\n",
       "\n"
      ],
      "text/plain": [
       "           GVIF  Df    GVIF^(1/(2*Df))\n",
       "bmi        FALSE FALSE FALSE          \n",
       "age        FALSE FALSE FALSE          \n",
       "sex        FALSE FALSE FALSE          \n",
       "smk_status FALSE FALSE FALSE          "
      ]
     },
     "metadata": {},
     "output_type": "display_data"
    },
    {
     "data": {
      "text/plain": [
       "\n",
       "Call:\n",
       "glm(formula = dm ~ bmi * sex + age, family = \"binomial\", data = bmi_dm)\n",
       "\n",
       "Deviance Residuals: \n",
       "    Min       1Q   Median       3Q      Max  \n",
       "-1.4954  -0.3456  -0.2530  -0.1617   3.5002  \n",
       "\n",
       "Coefficients:\n",
       "             Estimate Std. Error z value Pr(>|z|)    \n",
       "(Intercept) -8.238901   0.147324 -55.924   <2e-16 ***\n",
       "bmi          0.109662   0.004884  22.452   <2e-16 ***\n",
       "sex2        -2.632543   0.209224 -12.582   <2e-16 ***\n",
       "age          0.054114   0.001188  45.537   <2e-16 ***\n",
       "bmi:sex2     0.073719   0.008293   8.889   <2e-16 ***\n",
       "---\n",
       "Signif. codes:  0 ‘***’ 0.001 ‘**’ 0.01 ‘*’ 0.05 ‘.’ 0.1 ‘ ’ 1\n",
       "\n",
       "(Dispersion parameter for binomial family taken to be 1)\n",
       "\n",
       "    Null deviance: 58048  on 159608  degrees of freedom\n",
       "Residual deviance: 53086  on 159604  degrees of freedom\n",
       "AIC: 53096\n",
       "\n",
       "Number of Fisher Scoring iterations: 7\n"
      ]
     },
     "metadata": {},
     "output_type": "display_data"
    },
    {
     "name": "stderr",
     "output_type": "stream",
     "text": [
      "Waiting for profiling to be done...\n",
      "\n"
     ]
    },
    {
     "data": {
      "text/html": [
       "<table class=\"dataframe\">\n",
       "<caption>A matrix: 5 × 3 of type dbl</caption>\n",
       "<thead>\n",
       "\t<tr><th></th><th scope=col></th><th scope=col>2.5 %</th><th scope=col>97.5 %</th></tr>\n",
       "</thead>\n",
       "<tbody>\n",
       "\t<tr><th scope=row>(Intercept)</th><td>0.0002641745</td><td>0.0001978599</td><td>0.0003525092</td></tr>\n",
       "\t<tr><th scope=row>bmi</th><td>1.1159005906</td><td>1.1052510971</td><td>1.1266174470</td></tr>\n",
       "\t<tr><th scope=row>sex2</th><td>0.0718954310</td><td>0.0477075286</td><td>0.1083409272</td></tr>\n",
       "\t<tr><th scope=row>age</th><td>1.0556051412</td><td>1.0531514152</td><td>1.0580688061</td></tr>\n",
       "\t<tr><th scope=row>bmi:sex2</th><td>1.0765041513</td><td>1.0591279195</td><td>1.0941262356</td></tr>\n",
       "</tbody>\n",
       "</table>\n"
      ],
      "text/latex": [
       "A matrix: 5 × 3 of type dbl\n",
       "\\begin{tabular}{r|lll}\n",
       "  &  & 2.5 \\% & 97.5 \\%\\\\\n",
       "\\hline\n",
       "\t(Intercept) & 0.0002641745 & 0.0001978599 & 0.0003525092\\\\\n",
       "\tbmi & 1.1159005906 & 1.1052510971 & 1.1266174470\\\\\n",
       "\tsex2 & 0.0718954310 & 0.0477075286 & 0.1083409272\\\\\n",
       "\tage & 1.0556051412 & 1.0531514152 & 1.0580688061\\\\\n",
       "\tbmi:sex2 & 1.0765041513 & 1.0591279195 & 1.0941262356\\\\\n",
       "\\end{tabular}\n"
      ],
      "text/markdown": [
       "\n",
       "A matrix: 5 × 3 of type dbl\n",
       "\n",
       "| <!--/--> | <!----> | 2.5 % | 97.5 % |\n",
       "|---|---|---|---|\n",
       "| (Intercept) | 0.0002641745 | 0.0001978599 | 0.0003525092 |\n",
       "| bmi | 1.1159005906 | 1.1052510971 | 1.1266174470 |\n",
       "| sex2 | 0.0718954310 | 0.0477075286 | 0.1083409272 |\n",
       "| age | 1.0556051412 | 1.0531514152 | 1.0580688061 |\n",
       "| bmi:sex2 | 1.0765041513 | 1.0591279195 | 1.0941262356 |\n",
       "\n"
      ],
      "text/plain": [
       "                         2.5 %        97.5 %      \n",
       "(Intercept) 0.0002641745 0.0001978599 0.0003525092\n",
       "bmi         1.1159005906 1.1052510971 1.1266174470\n",
       "sex2        0.0718954310 0.0477075286 0.1083409272\n",
       "age         1.0556051412 1.0531514152 1.0580688061\n",
       "bmi:sex2    1.0765041513 1.0591279195 1.0941262356"
      ]
     },
     "metadata": {},
     "output_type": "display_data"
    },
    {
     "data": {
      "text/html": [
       "1.20127200553709"
      ],
      "text/latex": [
       "1.20127200553709"
      ],
      "text/markdown": [
       "1.20127200553709"
      ],
      "text/plain": [
       "[1] 1.201272"
      ]
     },
     "metadata": {},
     "output_type": "display_data"
    },
    {
     "name": "stderr",
     "output_type": "stream",
     "text": [
      "Loading required package: mvtnorm\n",
      "\n",
      "Loading required package: survival\n",
      "\n",
      "Loading required package: TH.data\n",
      "\n",
      "Loading required package: MASS\n",
      "\n",
      "\n",
      "Attaching package: ‘MASS’\n",
      "\n",
      "\n",
      "The following object is masked from ‘package:dplyr’:\n",
      "\n",
      "    select\n",
      "\n",
      "\n",
      "\n",
      "Attaching package: ‘TH.data’\n",
      "\n",
      "\n",
      "The following object is masked from ‘package:MASS’:\n",
      "\n",
      "    geyser\n",
      "\n",
      "\n"
     ]
    },
    {
     "data": {
      "text/plain": [
       "\n",
       "\t Simultaneous Confidence Intervals\n",
       "\n",
       "Fit: glm(formula = dm ~ bmi * sex + age, family = \"binomial\", data = bmi_dm)\n",
       "\n",
       "Quantile = 1.96\n",
       "95% family-wise confidence level\n",
       " \n",
       "\n",
       "Linear Hypotheses:\n",
       "                    Estimate lwr    upr   \n",
       "bmi + bmi:sex2 == 0 0.1834   0.1704 0.1964\n"
      ]
     },
     "metadata": {},
     "output_type": "display_data"
    },
    {
     "data": {
      "text/html": [
       "<table class=\"dataframe\">\n",
       "<caption>A matrix: 1 × 3 of type dbl</caption>\n",
       "<thead>\n",
       "\t<tr><th></th><th scope=col>Estimate</th><th scope=col>lwr</th><th scope=col>upr</th></tr>\n",
       "</thead>\n",
       "<tbody>\n",
       "\t<tr><th scope=row>bmi + bmi:sex2</th><td>1.201272</td><td>1.185743</td><td>1.217004</td></tr>\n",
       "</tbody>\n",
       "</table>\n"
      ],
      "text/latex": [
       "A matrix: 1 × 3 of type dbl\n",
       "\\begin{tabular}{r|lll}\n",
       "  & Estimate & lwr & upr\\\\\n",
       "\\hline\n",
       "\tbmi + bmi:sex2 & 1.201272 & 1.185743 & 1.217004\\\\\n",
       "\\end{tabular}\n"
      ],
      "text/markdown": [
       "\n",
       "A matrix: 1 × 3 of type dbl\n",
       "\n",
       "| <!--/--> | Estimate | lwr | upr |\n",
       "|---|---|---|---|\n",
       "| bmi + bmi:sex2 | 1.201272 | 1.185743 | 1.217004 |\n",
       "\n"
      ],
      "text/plain": [
       "               Estimate lwr      upr     \n",
       "bmi + bmi:sex2 1.201272 1.185743 1.217004"
      ]
     },
     "metadata": {},
     "output_type": "display_data"
    }
   ],
   "source": [
    "# multicollinearity test \n",
    "vif(model6)\n",
    "vif(model6) > 10\n",
    "\n",
    "# interaction \n",
    "model7=glm(dm~ bmi*sex + age , family= \"binomial\", data=bmi_dm)\n",
    "summary(model7)\n",
    "exp(cbind(coef(model7), confint(model7)))\n",
    "\n",
    "exp(0.109662+0.073719) # ods for dm according to bmi 1 unit increasing in female \n",
    "\n",
    "library(multcomp)\n",
    "\n",
    "confint(glht(model7, linfct = c(\"bmi + bmi:sex2 = 0 \")))\n",
    "bmi_female<-confint(glht(model7, linfct = c(\"bmi + bmi:sex2 = 0\")))\n",
    "exp(bmi_female$confint)  # display the odds ratio"
   ]
  }
 ],
 "metadata": {
  "kernelspec": {
   "display_name": "R",
   "language": "R",
   "name": "ir"
  },
  "language_info": {
   "codemirror_mode": "r",
   "file_extension": ".r",
   "mimetype": "text/x-r-source",
   "name": "R",
   "pygments_lexer": "r",
   "version": "4.2.2"
  }
 },
 "nbformat": 4,
 "nbformat_minor": 5
}
