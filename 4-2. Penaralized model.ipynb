{
 "cells": [
  {
   "cell_type": "markdown",
   "metadata": {},
   "source": [
    "# Penalized models (Regulations) - linear model \n",
    "- LASSO\n",
    "\n"
   ]
  },
  {
   "cell_type": "markdown",
   "metadata": {},
   "source": [
    "https://glmnet.stanford.edu/articles/glmnet.html"
   ]
  },
  {
   "cell_type": "code",
   "execution_count": 1,
   "metadata": {
    "vscode": {
     "languageId": "r"
    }
   },
   "outputs": [
    {
     "name": "stderr",
     "output_type": "stream",
     "text": [
      "Loading required package: Matrix\n",
      "\n",
      "Loaded glmnet 4.1-8\n",
      "\n"
     ]
    }
   ],
   "source": [
    "library(glmnet)"
   ]
  },
  {
   "cell_type": "code",
   "execution_count": 2,
   "metadata": {
    "vscode": {
     "languageId": "r"
    }
   },
   "outputs": [
    {
     "data": {
      "text/html": [
       "<table class=\"dataframe\">\n",
       "<caption>A data.frame: 6 x 6</caption>\n",
       "<thead>\n",
       "\t<tr><th></th><th scope=col>Ozone</th><th scope=col>Solar.R</th><th scope=col>Wind</th><th scope=col>Temp</th><th scope=col>Month</th><th scope=col>Day</th></tr>\n",
       "\t<tr><th></th><th scope=col>&lt;int&gt;</th><th scope=col>&lt;int&gt;</th><th scope=col>&lt;dbl&gt;</th><th scope=col>&lt;int&gt;</th><th scope=col>&lt;int&gt;</th><th scope=col>&lt;int&gt;</th></tr>\n",
       "</thead>\n",
       "<tbody>\n",
       "\t<tr><th scope=row>1</th><td>41</td><td>190</td><td> 7.4</td><td>67</td><td>5</td><td>1</td></tr>\n",
       "\t<tr><th scope=row>2</th><td>36</td><td>118</td><td> 8.0</td><td>72</td><td>5</td><td>2</td></tr>\n",
       "\t<tr><th scope=row>3</th><td>12</td><td>149</td><td>12.6</td><td>74</td><td>5</td><td>3</td></tr>\n",
       "\t<tr><th scope=row>4</th><td>18</td><td>313</td><td>11.5</td><td>62</td><td>5</td><td>4</td></tr>\n",
       "\t<tr><th scope=row>5</th><td>NA</td><td> NA</td><td>14.3</td><td>56</td><td>5</td><td>5</td></tr>\n",
       "\t<tr><th scope=row>6</th><td>28</td><td> NA</td><td>14.9</td><td>66</td><td>5</td><td>6</td></tr>\n",
       "</tbody>\n",
       "</table>\n"
      ],
      "text/latex": [
       "A data.frame: 6 x 6\n",
       "\\begin{tabular}{r|llllll}\n",
       "  & Ozone & Solar.R & Wind & Temp & Month & Day\\\\\n",
       "  & <int> & <int> & <dbl> & <int> & <int> & <int>\\\\\n",
       "\\hline\n",
       "\t1 & 41 & 190 &  7.4 & 67 & 5 & 1\\\\\n",
       "\t2 & 36 & 118 &  8.0 & 72 & 5 & 2\\\\\n",
       "\t3 & 12 & 149 & 12.6 & 74 & 5 & 3\\\\\n",
       "\t4 & 18 & 313 & 11.5 & 62 & 5 & 4\\\\\n",
       "\t5 & NA &  NA & 14.3 & 56 & 5 & 5\\\\\n",
       "\t6 & 28 &  NA & 14.9 & 66 & 5 & 6\\\\\n",
       "\\end{tabular}\n"
      ],
      "text/markdown": [
       "\n",
       "A data.frame: 6 x 6\n",
       "\n",
       "| <!--/--> | Ozone &lt;int&gt; | Solar.R &lt;int&gt; | Wind &lt;dbl&gt; | Temp &lt;int&gt; | Month &lt;int&gt; | Day &lt;int&gt; |\n",
       "|---|---|---|---|---|---|---|\n",
       "| 1 | 41 | 190 |  7.4 | 67 | 5 | 1 |\n",
       "| 2 | 36 | 118 |  8.0 | 72 | 5 | 2 |\n",
       "| 3 | 12 | 149 | 12.6 | 74 | 5 | 3 |\n",
       "| 4 | 18 | 313 | 11.5 | 62 | 5 | 4 |\n",
       "| 5 | NA |  NA | 14.3 | 56 | 5 | 5 |\n",
       "| 6 | 28 |  NA | 14.9 | 66 | 5 | 6 |\n",
       "\n"
      ],
      "text/plain": [
       "  Ozone Solar.R Wind Temp Month Day\n",
       "1 41    190      7.4 67   5     1  \n",
       "2 36    118      8.0 72   5     2  \n",
       "3 12    149     12.6 74   5     3  \n",
       "4 18    313     11.5 62   5     4  \n",
       "5 NA     NA     14.3 56   5     5  \n",
       "6 28     NA     14.9 66   5     6  "
      ]
     },
     "metadata": {},
     "output_type": "display_data"
    },
    {
     "name": "stdout",
     "output_type": "stream",
     "text": [
      "'data.frame':\t111 obs. of  6 variables:\n",
      " $ Ozone  : int  41 36 12 18 23 19 8 16 11 14 ...\n",
      " $ Solar.R: int  190 118 149 313 299 99 19 256 290 274 ...\n",
      " $ Wind   : num  7.4 8 12.6 11.5 8.6 13.8 20.1 9.7 9.2 10.9 ...\n",
      " $ Temp   : int  67 72 74 62 65 59 61 69 66 68 ...\n",
      " $ Month  : int  5 5 5 5 5 5 5 5 5 5 ...\n",
      " $ Day    : int  1 2 3 4 7 8 9 12 13 14 ...\n",
      " - attr(*, \"na.action\")= 'omit' Named int [1:42] 5 6 10 11 25 26 27 32 33 34 ...\n",
      "  ..- attr(*, \"names\")= chr [1:42] \"5\" \"6\" \"10\" \"11\" ...\n"
     ]
    }
   ],
   "source": [
    "data(airquality)\n",
    "head(airquality)\n",
    "dat=na.omit(airquality)\n",
    "str(dat)"
   ]
  },
  {
   "cell_type": "code",
   "execution_count": 4,
   "metadata": {
    "vscode": {
     "languageId": "r"
    }
   },
   "outputs": [
    {
     "name": "stdout",
     "output_type": "stream",
     "text": [
      "List of 12\n",
      " $ a0       : Named num -63.3\n",
      "  ..- attr(*, \"names\")= chr \"s0\"\n",
      " $ beta     :Formal class 'dgCMatrix' [package \"Matrix\"] with 6 slots\n",
      "  .. ..@ i       : int [1:5] 0 1 2 3 4\n",
      "  .. ..@ p       : int [1:2] 0 5\n",
      "  .. ..@ Dim     : int [1:2] 5 1\n",
      "  .. ..@ Dimnames:List of 2\n",
      "  .. .. ..$ : chr [1:5] \"Solar.R\" \"Wind\" \"Temp\" \"Month\" ...\n",
      "  .. .. ..$ : chr \"s0\"\n",
      "  .. ..@ x       : num [1:5] 0.0492 -3.2808 1.8687 -2.8214 0.2469\n",
      "  .. ..@ factors : list()\n",
      " $ df       : int 5\n",
      " $ dim      : int [1:2] 5 1\n",
      " $ lambda   : num 0.2\n",
      " $ dev.ratio: num 0.625\n",
      " $ nulldev  : num 121802\n",
      " $ npasses  : int 10\n",
      " $ jerr     : int 0\n",
      " $ offset   : logi FALSE\n",
      " $ call     : language glmnet(x = X.Dat, y = y, family = \"gaussian\", alpha = 1, lambda = 0.2)\n",
      " $ nobs     : int 111\n",
      " - attr(*, \"class\")= chr [1:2] \"elnet\" \"glmnet\"\n"
     ]
    },
    {
     "data": {
      "text/plain": [
       "\n",
       "Call:\n",
       "lm(formula = Ozone ~ ., data = dat)\n",
       "\n",
       "Coefficients:\n",
       "(Intercept)      Solar.R         Wind         Temp        Month          Day  \n",
       "  -64.11632      0.05027     -3.31844      1.89579     -3.03996      0.27388  \n"
      ]
     },
     "metadata": {},
     "output_type": "display_data"
    }
   ],
   "source": [
    "#Predictor variable\n",
    "X.Dat=dat[,-1] #Remove the first column (Ozone)\n",
    "\n",
    "#Response variable\n",
    "y=dat$Ozone\n",
    "\n",
    "#Lasso regression, alpha=1\n",
    "#The tuning parameter lambda \n",
    "lambda.value=0.2\n",
    "lfit = glmnet(X.Dat, y, lambda=0.2, family=\"gaussian\", alpha=1)\n",
    "\n",
    "str(lfit)\n",
    "\n",
    "fit=lm(Ozone~., data=dat)\n",
    "#fit\n",
    "#str(lfit)"
   ]
  },
  {
   "cell_type": "code",
   "execution_count": 1,
   "metadata": {
    "vscode": {
     "languageId": "r"
    }
   },
   "outputs": [
    {
     "ename": "ERROR",
     "evalue": "Error in cv.glmnet(as.matrix(X.Dat), y, family = \"gaussian\", alpha = 1): could not find function \"cv.glmnet\"\n",
     "output_type": "error",
     "traceback": [
      "Error in cv.glmnet(as.matrix(X.Dat), y, family = \"gaussian\", alpha = 1): could not find function \"cv.glmnet\"\nTraceback:\n"
     ]
    }
   ],
   "source": [
    "#Cross validation for selecting lambda\n",
    "set.seed(4540)\n",
    "fitcv=cv.glmnet(as.matrix(X.Dat), y,family=\"gaussian\", alpha=1)\n",
    "fitcv$lambda.min #The best lambda value selected is 0.67\n",
    "\n",
    "yhat=predict(fitcv, as.matrix(X.Dat), s=fitcv$lambda.min )\n",
    "\n",
    "#find MSE\n",
    "MSE= mean((y-yhat)^2)\n",
    "MSE"
   ]
  },
  {
   "cell_type": "code",
   "execution_count": 5,
   "metadata": {
    "vscode": {
     "languageId": "r"
    }
   },
   "outputs": [
    {
     "name": "stderr",
     "output_type": "stream",
     "text": [
      "Loading required package: ggplot2\n",
      "\n",
      "Warning message:\n",
      "\"package 'ggplot2' was built under R version 4.2.3\"\n",
      "Loading required package: lattice\n",
      "\n"
     ]
    },
    {
     "data": {
      "text/plain": [
       "glmnet \n",
       "\n",
       "111 samples\n",
       "  5 predictor\n",
       "\n",
       "Pre-processing: centered (5), scaled (5) \n",
       "Resampling: Cross-Validated (5 fold) \n",
       "Summary of sample sizes: 88, 89, 88, 89, 90 \n",
       "Resampling results across tuning parameters:\n",
       "\n",
       "  alpha      lambda      RMSE      Rsquared   MAE     \n",
       "  0.0000000  0.00000000  21.18841  0.6034031  15.72105\n",
       "  0.1111111  0.03333333  21.29305  0.6002161  15.86012\n",
       "  0.2222222  0.06666667  21.29555  0.6001609  15.86149\n",
       "  0.3333333  0.10000000  21.29770  0.6001061  15.86376\n",
       "  0.4444444  0.13333333  21.29880  0.6000795  15.86432\n",
       "  0.5555556  0.16666667  21.29567  0.6000914  15.86181\n",
       "  0.6666667  0.20000000  21.29255  0.6000687  15.85901\n",
       "  0.7777778  0.23333333  21.28992  0.6000169  15.85621\n",
       "  0.8888889  0.26666667  21.28765  0.5999376  15.85309\n",
       "  1.0000000  0.30000000  21.28668  0.5998074  15.85024\n",
       "\n",
       "RMSE was used to select the optimal model using the smallest value.\n",
       "The final values used for the model were alpha = 0 and lambda = 0."
      ]
     },
     "metadata": {},
     "output_type": "display_data"
    }
   ],
   "source": [
    "#package caret, train function to select the best tuning parameters\n",
    "\n",
    "set.seed(139)\n",
    "library(caret)\n",
    "\n",
    "#set the cross validation method\n",
    "#5 fold cross validation\n",
    "ctrl=trainControl(method=\"cv\", number=5)\n",
    "\n",
    "#set the space to search the tuning parameters\n",
    "dgrid=data.frame(lambda=seq(0, 0.3, length=10),alpha=seq(0,1,length=10))\n",
    "\n",
    "fit.0=train(Ozone~., data=dat, method=\"glmnet\", trControl=ctrl, tuneGrid=dgrid, preProc=c(\"center\", \"scale\"))\n",
    "fit.0 #alpha , lambda = 0 , it means linear regression is the best model\n",
    "\n",
    "# It shows alpha=0, lambda=0 leading to the smallest RMSE,MAE, the largest Rsquared"
   ]
  },
  {
   "cell_type": "code",
   "execution_count": 6,
   "metadata": {
    "vscode": {
     "languageId": "r"
    }
   },
   "outputs": [
    {
     "data": {
      "text/plain": [
       "glmnet \n",
       "\n",
       "32 samples\n",
       "10 predictors\n",
       "\n",
       "Pre-processing: centered (10), scaled (10) \n",
       "Resampling: Cross-Validated (5 fold) \n",
       "Summary of sample sizes: 27, 25, 24, 26, 26 \n",
       "Resampling results across tuning parameters:\n",
       "\n",
       "  alpha       lambda     RMSE      Rsquared   MAE     \n",
       "  0.00000000  0.2000000  2.844265  0.8323542  2.474084\n",
       "  0.05263158  0.2157895  2.984975  0.8142023  2.615941\n",
       "  0.10526316  0.2315789  2.920605  0.8217142  2.550551\n",
       "  0.15789474  0.2473684  2.871356  0.8282478  2.498363\n",
       "  0.21052632  0.2631579  2.847760  0.8332861  2.473075\n",
       "  0.26315789  0.2789474  2.832270  0.8369350  2.454071\n",
       "  0.31578947  0.2947368  2.825857  0.8386562  2.442367\n",
       "  0.36842105  0.3105263  2.821380  0.8404972  2.434724\n",
       "  0.42105263  0.3263158  2.817605  0.8424880  2.427609\n",
       "  0.47368421  0.3421053  2.814674  0.8445817  2.420009\n",
       "  0.52631579  0.3578947  2.812406  0.8468179  2.411442\n",
       "  0.57894737  0.3736842  2.811275  0.8492428  2.401638\n",
       "  0.63157895  0.3894737  2.811010  0.8519330  2.389915\n",
       "  0.68421053  0.4052632  2.809059  0.8546773  2.375846\n",
       "  0.73684211  0.4210526  2.802435  0.8565571  2.370019\n",
       "  0.78947368  0.4368421  2.793830  0.8577600  2.359425\n",
       "  0.84210526  0.4526316  2.781362  0.8587844  2.342304\n",
       "  0.89473684  0.4684211  2.766165  0.8595741  2.319295\n",
       "  0.94736842  0.4842105  2.743610  0.8617525  2.286168\n",
       "  1.00000000  0.5000000  2.722530  0.8637412  2.248488\n",
       "\n",
       "RMSE was used to select the optimal model using the smallest value.\n",
       "The final values used for the model were alpha = 1 and lambda = 0.5."
      ]
     },
     "metadata": {},
     "output_type": "display_data"
    },
    {
     "data": {
      "text/html": [
       "<table class=\"dataframe\">\n",
       "<caption>A data.frame: 1 x 2</caption>\n",
       "<thead>\n",
       "\t<tr><th></th><th scope=col>alpha</th><th scope=col>lambda</th></tr>\n",
       "\t<tr><th></th><th scope=col>&lt;dbl&gt;</th><th scope=col>&lt;dbl&gt;</th></tr>\n",
       "</thead>\n",
       "<tbody>\n",
       "\t<tr><th scope=row>20</th><td>1</td><td>0.5</td></tr>\n",
       "</tbody>\n",
       "</table>\n"
      ],
      "text/latex": [
       "A data.frame: 1 x 2\n",
       "\\begin{tabular}{r|ll}\n",
       "  & alpha & lambda\\\\\n",
       "  & <dbl> & <dbl>\\\\\n",
       "\\hline\n",
       "\t20 & 1 & 0.5\\\\\n",
       "\\end{tabular}\n"
      ],
      "text/markdown": [
       "\n",
       "A data.frame: 1 x 2\n",
       "\n",
       "| <!--/--> | alpha &lt;dbl&gt; | lambda &lt;dbl&gt; |\n",
       "|---|---|---|\n",
       "| 20 | 1 | 0.5 |\n",
       "\n"
      ],
      "text/plain": [
       "   alpha lambda\n",
       "20 1     0.5   "
      ]
     },
     "metadata": {},
     "output_type": "display_data"
    }
   ],
   "source": [
    "set.seed(139)\n",
    "dat=mtcars\n",
    "dgrid=data.frame(lambda=seq(0.2,0.5, length=20),alpha=seq(0.0,1.0,length=20))\n",
    "\n",
    "fit.1=train(mpg~., data=dat, method=\"glmnet\", trControl=ctrl, tuneGrid=dgrid, preProc=c(\"center\", \"scale\"))\n",
    "fit.1\n",
    "\n",
    "# 1.00000000  0.5000000  2.722530  0.8637412  2.248488 is the best\n",
    "#according to this output, the best alpha =1, lambda=0.5\n",
    "\n",
    "# to get the best tuning parameters\n",
    "fit.1$bestTune\n",
    "\n"
   ]
  },
  {
   "cell_type": "code",
   "execution_count": 7,
   "metadata": {
    "vscode": {
     "languageId": "r"
    }
   },
   "outputs": [
    {
     "data": {
      "image/png": "[encoded data removed]",
      "text/plain": [
       "plot without title"
      ]
     },
     "metadata": {
      "image/png": {
       "height": 420,
       "width": 420
      }
     },
     "output_type": "display_data"
    }
   ],
   "source": [
    "#make prediction using the best model\n",
    "yhat=predict(fit.1,dat)\n",
    "plot(yhat,dat$mpg)"
   ]
  },
  {
   "cell_type": "code",
   "execution_count": 8,
   "metadata": {
    "vscode": {
     "languageId": "r"
    }
   },
   "outputs": [
    {
     "data": {
      "text/plain": [
       "glmnet \n",
       "\n",
       "28 samples\n",
       "10 predictors\n",
       "\n",
       "Pre-processing: centered (10), scaled (10) \n",
       "Resampling: Cross-Validated (5 fold) \n",
       "Summary of sample sizes: 22, 22, 23, 23, 22 \n",
       "Resampling results across tuning parameters:\n",
       "\n",
       "  alpha       lambda     RMSE      Rsquared   MAE     \n",
       "  0.00000000  0.2000000  3.024379  0.8080604  2.541427\n",
       "  0.05263158  0.2157895  3.222087  0.7824520  2.677631\n",
       "  0.10526316  0.2315789  3.147878  0.7913709  2.632876\n",
       "  0.15789474  0.2473684  3.086231  0.7977166  2.590904\n",
       "  0.21052632  0.2631579  3.041057  0.8016545  2.562702\n",
       "  0.26315789  0.2789474  3.001998  0.8049363  2.537743\n",
       "  0.31578947  0.2947368  2.996140  0.8052632  2.532556\n",
       "  0.36842105  0.3105263  2.997303  0.8048441  2.530557\n",
       "  0.42105263  0.3263158  2.998951  0.8044068  2.528042\n",
       "  0.47368421  0.3421053  3.001242  0.8039525  2.524944\n",
       "  0.52631579  0.3578947  3.004790  0.8034578  2.521690\n",
       "  0.57894737  0.3736842  3.008233  0.8030553  2.516829\n",
       "  0.63157895  0.3894737  3.011281  0.8026896  2.511215\n",
       "  0.68421053  0.4052632  3.010694  0.8028987  2.503256\n",
       "  0.73684211  0.4210526  3.008605  0.8036578  2.494699\n",
       "  0.78947368  0.4368421  3.002963  0.8048838  2.480372\n",
       "  0.84210526  0.4526316  2.991704  0.8069598  2.469108\n",
       "  0.89473684  0.4684211  2.977444  0.8092843  2.459487\n",
       "  0.94736842  0.4842105  2.960762  0.8119943  2.445916\n",
       "  1.00000000  0.5000000  2.942735  0.8153368  2.438293\n",
       "\n",
       "RMSE was used to select the optimal model using the smallest value.\n",
       "The final values used for the model were alpha = 1 and lambda = 0.5."
      ]
     },
     "metadata": {},
     "output_type": "display_data"
    },
    {
     "data": {
      "text/html": [
       "<table class=\"dataframe\">\n",
       "<caption>A data.frame: 1 x 2</caption>\n",
       "<thead>\n",
       "\t<tr><th></th><th scope=col>alpha</th><th scope=col>lambda</th></tr>\n",
       "\t<tr><th></th><th scope=col>&lt;dbl&gt;</th><th scope=col>&lt;dbl&gt;</th></tr>\n",
       "</thead>\n",
       "<tbody>\n",
       "\t<tr><th scope=row>20</th><td>1</td><td>0.5</td></tr>\n",
       "</tbody>\n",
       "</table>\n"
      ],
      "text/latex": [
       "A data.frame: 1 x 2\n",
       "\\begin{tabular}{r|ll}\n",
       "  & alpha & lambda\\\\\n",
       "  & <dbl> & <dbl>\\\\\n",
       "\\hline\n",
       "\t20 & 1 & 0.5\\\\\n",
       "\\end{tabular}\n"
      ],
      "text/markdown": [
       "\n",
       "A data.frame: 1 x 2\n",
       "\n",
       "| <!--/--> | alpha &lt;dbl&gt; | lambda &lt;dbl&gt; |\n",
       "|---|---|---|\n",
       "| 20 | 1 | 0.5 |\n",
       "\n"
      ],
      "text/plain": [
       "   alpha lambda\n",
       "20 1     0.5   "
      ]
     },
     "metadata": {},
     "output_type": "display_data"
    },
    {
     "data": {
      "text/html": [
       "1.36582987538078"
      ],
      "text/latex": [
       "1.36582987538078"
      ],
      "text/markdown": [
       "1.36582987538078"
      ],
      "text/plain": [
       "[1] 1.36583"
      ]
     },
     "metadata": {},
     "output_type": "display_data"
    },
    {
     "data": {
      "image/png": "[encoded data removed]",
      "text/plain": [
       "plot without title"
      ]
     },
     "metadata": {
      "image/png": {
       "height": 420,
       "width": 420
      }
     },
     "output_type": "display_data"
    }
   ],
   "source": [
    "set.seed(151)\n",
    "dat=mtcars\n",
    "\n",
    "train.index=createDataPartition(dat$mpg, p=0.8, list=FALSE)\n",
    "train.dat=dat[train.index,]\n",
    "test.dat=dat[-train.index,]\n",
    "\n",
    "ctrl=trainControl(method=\"cv\", number=5)\n",
    "\n",
    "dgrid=data.frame(lambda=seq(0.2,0.5, length=20),alpha=seq(0.0,1.0,length=20))\n",
    "\n",
    "fit.2=train(mpg~., data=train.dat, method=\"glmnet\", trControl=ctrl, tuneGrid=dgrid, preProc=c(\"center\", \"scale\"))\n",
    "fit.2\n",
    "\n",
    "fit.2$bestTune\n",
    "\n",
    "yhat=predict(fit.2,test.dat)\n",
    "\n",
    "#MSE of the model trained using the training data on the testing data\n",
    "mean((yhat-test.dat$mpg)^2)\n",
    "plot(yhat,test.dat$mpg) #sample size is too small : useless \n",
    "\n",
    "#the MSE of the train model on the testing data is 1.36582987538078"
   ]
  }
 ],
 "metadata": {
  "kernelspec": {
   "display_name": "R",
   "language": "R",
   "name": "ir"
  },
  "language_info": {
   "codemirror_mode": "r",
   "file_extension": ".r",
   "mimetype": "text/x-r-source",
   "name": "R",
   "pygments_lexer": "r",
   "version": "4.2.2"
  }
 },
 "nbformat": 4,
 "nbformat_minor": 2
}
